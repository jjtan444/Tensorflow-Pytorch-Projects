{
  "nbformat": 4,
  "nbformat_minor": 0,
  "metadata": {
    "colab": {
      "name": "BERT Transformer(2 classes).ipynb",
      "provenance": [],
      "collapsed_sections": []
    },
    "kernelspec": {
      "name": "python3",
      "display_name": "Python 3"
    },
    "language_info": {
      "name": "python"
    },
    "accelerator": "GPU",
    "widgets": {
      "application/vnd.jupyter.widget-state+json": {
        "ee5a3b41ad4c4f25ab6d5aa826253b77": {
          "model_module": "@jupyter-widgets/controls",
          "model_name": "HBoxModel",
          "model_module_version": "1.5.0",
          "state": {
            "_view_name": "HBoxView",
            "_dom_classes": [],
            "_model_name": "HBoxModel",
            "_view_module": "@jupyter-widgets/controls",
            "_model_module_version": "1.5.0",
            "_view_count": null,
            "_view_module_version": "1.5.0",
            "box_style": "",
            "layout": "IPY_MODEL_37a81935e18f48b8abf372f04343a9ab",
            "_model_module": "@jupyter-widgets/controls",
            "children": [
              "IPY_MODEL_bf667884a62448dfab3acefa395d4cc2",
              "IPY_MODEL_389d0e012ef44e279580e9b15c3fa492",
              "IPY_MODEL_6e7eadee388945b6a047b0fabc2e1c90"
            ]
          }
        },
        "37a81935e18f48b8abf372f04343a9ab": {
          "model_module": "@jupyter-widgets/base",
          "model_name": "LayoutModel",
          "model_module_version": "1.2.0",
          "state": {
            "_view_name": "LayoutView",
            "grid_template_rows": null,
            "right": null,
            "justify_content": null,
            "_view_module": "@jupyter-widgets/base",
            "overflow": null,
            "_model_module_version": "1.2.0",
            "_view_count": null,
            "flex_flow": null,
            "width": null,
            "min_width": null,
            "border": null,
            "align_items": null,
            "bottom": null,
            "_model_module": "@jupyter-widgets/base",
            "top": null,
            "grid_column": null,
            "overflow_y": null,
            "overflow_x": null,
            "grid_auto_flow": null,
            "grid_area": null,
            "grid_template_columns": null,
            "flex": null,
            "_model_name": "LayoutModel",
            "justify_items": null,
            "grid_row": null,
            "max_height": null,
            "align_content": null,
            "visibility": null,
            "align_self": null,
            "height": null,
            "min_height": null,
            "padding": null,
            "grid_auto_rows": null,
            "grid_gap": null,
            "max_width": null,
            "order": null,
            "_view_module_version": "1.2.0",
            "grid_template_areas": null,
            "object_position": null,
            "object_fit": null,
            "grid_auto_columns": null,
            "margin": null,
            "display": null,
            "left": null
          }
        },
        "bf667884a62448dfab3acefa395d4cc2": {
          "model_module": "@jupyter-widgets/controls",
          "model_name": "HTMLModel",
          "model_module_version": "1.5.0",
          "state": {
            "_view_name": "HTMLView",
            "style": "IPY_MODEL_0cc39232cc0249d28c6f7b7a16425689",
            "_dom_classes": [],
            "description": "",
            "_model_name": "HTMLModel",
            "placeholder": "​",
            "_view_module": "@jupyter-widgets/controls",
            "_model_module_version": "1.5.0",
            "value": "Downloading: 100%",
            "_view_count": null,
            "_view_module_version": "1.5.0",
            "description_tooltip": null,
            "_model_module": "@jupyter-widgets/controls",
            "layout": "IPY_MODEL_4a52242e1957444ca772732d942951db"
          }
        },
        "389d0e012ef44e279580e9b15c3fa492": {
          "model_module": "@jupyter-widgets/controls",
          "model_name": "FloatProgressModel",
          "model_module_version": "1.5.0",
          "state": {
            "_view_name": "ProgressView",
            "style": "IPY_MODEL_0f06669e652245f3b726f34f0167cdb7",
            "_dom_classes": [],
            "description": "",
            "_model_name": "FloatProgressModel",
            "bar_style": "success",
            "max": 29,
            "_view_module": "@jupyter-widgets/controls",
            "_model_module_version": "1.5.0",
            "value": 29,
            "_view_count": null,
            "_view_module_version": "1.5.0",
            "orientation": "horizontal",
            "min": 0,
            "description_tooltip": null,
            "_model_module": "@jupyter-widgets/controls",
            "layout": "IPY_MODEL_836edc68437446669969079972eeec7c"
          }
        },
        "6e7eadee388945b6a047b0fabc2e1c90": {
          "model_module": "@jupyter-widgets/controls",
          "model_name": "HTMLModel",
          "model_module_version": "1.5.0",
          "state": {
            "_view_name": "HTMLView",
            "style": "IPY_MODEL_cf8e7e83a15040f4a5ea8f9940a9922a",
            "_dom_classes": [],
            "description": "",
            "_model_name": "HTMLModel",
            "placeholder": "​",
            "_view_module": "@jupyter-widgets/controls",
            "_model_module_version": "1.5.0",
            "value": " 29.0/29.0 [00:00&lt;00:00, 321B/s]",
            "_view_count": null,
            "_view_module_version": "1.5.0",
            "description_tooltip": null,
            "_model_module": "@jupyter-widgets/controls",
            "layout": "IPY_MODEL_bc1af0b7c1194c86a469b4d39bfceb86"
          }
        },
        "0cc39232cc0249d28c6f7b7a16425689": {
          "model_module": "@jupyter-widgets/controls",
          "model_name": "DescriptionStyleModel",
          "model_module_version": "1.5.0",
          "state": {
            "_view_name": "StyleView",
            "_model_name": "DescriptionStyleModel",
            "description_width": "",
            "_view_module": "@jupyter-widgets/base",
            "_model_module_version": "1.5.0",
            "_view_count": null,
            "_view_module_version": "1.2.0",
            "_model_module": "@jupyter-widgets/controls"
          }
        },
        "4a52242e1957444ca772732d942951db": {
          "model_module": "@jupyter-widgets/base",
          "model_name": "LayoutModel",
          "model_module_version": "1.2.0",
          "state": {
            "_view_name": "LayoutView",
            "grid_template_rows": null,
            "right": null,
            "justify_content": null,
            "_view_module": "@jupyter-widgets/base",
            "overflow": null,
            "_model_module_version": "1.2.0",
            "_view_count": null,
            "flex_flow": null,
            "width": null,
            "min_width": null,
            "border": null,
            "align_items": null,
            "bottom": null,
            "_model_module": "@jupyter-widgets/base",
            "top": null,
            "grid_column": null,
            "overflow_y": null,
            "overflow_x": null,
            "grid_auto_flow": null,
            "grid_area": null,
            "grid_template_columns": null,
            "flex": null,
            "_model_name": "LayoutModel",
            "justify_items": null,
            "grid_row": null,
            "max_height": null,
            "align_content": null,
            "visibility": null,
            "align_self": null,
            "height": null,
            "min_height": null,
            "padding": null,
            "grid_auto_rows": null,
            "grid_gap": null,
            "max_width": null,
            "order": null,
            "_view_module_version": "1.2.0",
            "grid_template_areas": null,
            "object_position": null,
            "object_fit": null,
            "grid_auto_columns": null,
            "margin": null,
            "display": null,
            "left": null
          }
        },
        "0f06669e652245f3b726f34f0167cdb7": {
          "model_module": "@jupyter-widgets/controls",
          "model_name": "ProgressStyleModel",
          "model_module_version": "1.5.0",
          "state": {
            "_view_name": "StyleView",
            "_model_name": "ProgressStyleModel",
            "description_width": "",
            "_view_module": "@jupyter-widgets/base",
            "_model_module_version": "1.5.0",
            "_view_count": null,
            "_view_module_version": "1.2.0",
            "bar_color": null,
            "_model_module": "@jupyter-widgets/controls"
          }
        },
        "836edc68437446669969079972eeec7c": {
          "model_module": "@jupyter-widgets/base",
          "model_name": "LayoutModel",
          "model_module_version": "1.2.0",
          "state": {
            "_view_name": "LayoutView",
            "grid_template_rows": null,
            "right": null,
            "justify_content": null,
            "_view_module": "@jupyter-widgets/base",
            "overflow": null,
            "_model_module_version": "1.2.0",
            "_view_count": null,
            "flex_flow": null,
            "width": null,
            "min_width": null,
            "border": null,
            "align_items": null,
            "bottom": null,
            "_model_module": "@jupyter-widgets/base",
            "top": null,
            "grid_column": null,
            "overflow_y": null,
            "overflow_x": null,
            "grid_auto_flow": null,
            "grid_area": null,
            "grid_template_columns": null,
            "flex": null,
            "_model_name": "LayoutModel",
            "justify_items": null,
            "grid_row": null,
            "max_height": null,
            "align_content": null,
            "visibility": null,
            "align_self": null,
            "height": null,
            "min_height": null,
            "padding": null,
            "grid_auto_rows": null,
            "grid_gap": null,
            "max_width": null,
            "order": null,
            "_view_module_version": "1.2.0",
            "grid_template_areas": null,
            "object_position": null,
            "object_fit": null,
            "grid_auto_columns": null,
            "margin": null,
            "display": null,
            "left": null
          }
        },
        "cf8e7e83a15040f4a5ea8f9940a9922a": {
          "model_module": "@jupyter-widgets/controls",
          "model_name": "DescriptionStyleModel",
          "model_module_version": "1.5.0",
          "state": {
            "_view_name": "StyleView",
            "_model_name": "DescriptionStyleModel",
            "description_width": "",
            "_view_module": "@jupyter-widgets/base",
            "_model_module_version": "1.5.0",
            "_view_count": null,
            "_view_module_version": "1.2.0",
            "_model_module": "@jupyter-widgets/controls"
          }
        },
        "bc1af0b7c1194c86a469b4d39bfceb86": {
          "model_module": "@jupyter-widgets/base",
          "model_name": "LayoutModel",
          "model_module_version": "1.2.0",
          "state": {
            "_view_name": "LayoutView",
            "grid_template_rows": null,
            "right": null,
            "justify_content": null,
            "_view_module": "@jupyter-widgets/base",
            "overflow": null,
            "_model_module_version": "1.2.0",
            "_view_count": null,
            "flex_flow": null,
            "width": null,
            "min_width": null,
            "border": null,
            "align_items": null,
            "bottom": null,
            "_model_module": "@jupyter-widgets/base",
            "top": null,
            "grid_column": null,
            "overflow_y": null,
            "overflow_x": null,
            "grid_auto_flow": null,
            "grid_area": null,
            "grid_template_columns": null,
            "flex": null,
            "_model_name": "LayoutModel",
            "justify_items": null,
            "grid_row": null,
            "max_height": null,
            "align_content": null,
            "visibility": null,
            "align_self": null,
            "height": null,
            "min_height": null,
            "padding": null,
            "grid_auto_rows": null,
            "grid_gap": null,
            "max_width": null,
            "order": null,
            "_view_module_version": "1.2.0",
            "grid_template_areas": null,
            "object_position": null,
            "object_fit": null,
            "grid_auto_columns": null,
            "margin": null,
            "display": null,
            "left": null
          }
        },
        "4a1ea038bf9f430192d4dea52bba3d51": {
          "model_module": "@jupyter-widgets/controls",
          "model_name": "HBoxModel",
          "model_module_version": "1.5.0",
          "state": {
            "_view_name": "HBoxView",
            "_dom_classes": [],
            "_model_name": "HBoxModel",
            "_view_module": "@jupyter-widgets/controls",
            "_model_module_version": "1.5.0",
            "_view_count": null,
            "_view_module_version": "1.5.0",
            "box_style": "",
            "layout": "IPY_MODEL_07d857e409e5499f966d4c4ba1191c87",
            "_model_module": "@jupyter-widgets/controls",
            "children": [
              "IPY_MODEL_f48c3bc56d3d4ae28fcf5bc37c91c6ba",
              "IPY_MODEL_404842f1b4c0497a859c533533a56a08",
              "IPY_MODEL_b29025386156499ba694b9467544371e"
            ]
          }
        },
        "07d857e409e5499f966d4c4ba1191c87": {
          "model_module": "@jupyter-widgets/base",
          "model_name": "LayoutModel",
          "model_module_version": "1.2.0",
          "state": {
            "_view_name": "LayoutView",
            "grid_template_rows": null,
            "right": null,
            "justify_content": null,
            "_view_module": "@jupyter-widgets/base",
            "overflow": null,
            "_model_module_version": "1.2.0",
            "_view_count": null,
            "flex_flow": null,
            "width": null,
            "min_width": null,
            "border": null,
            "align_items": null,
            "bottom": null,
            "_model_module": "@jupyter-widgets/base",
            "top": null,
            "grid_column": null,
            "overflow_y": null,
            "overflow_x": null,
            "grid_auto_flow": null,
            "grid_area": null,
            "grid_template_columns": null,
            "flex": null,
            "_model_name": "LayoutModel",
            "justify_items": null,
            "grid_row": null,
            "max_height": null,
            "align_content": null,
            "visibility": null,
            "align_self": null,
            "height": null,
            "min_height": null,
            "padding": null,
            "grid_auto_rows": null,
            "grid_gap": null,
            "max_width": null,
            "order": null,
            "_view_module_version": "1.2.0",
            "grid_template_areas": null,
            "object_position": null,
            "object_fit": null,
            "grid_auto_columns": null,
            "margin": null,
            "display": null,
            "left": null
          }
        },
        "f48c3bc56d3d4ae28fcf5bc37c91c6ba": {
          "model_module": "@jupyter-widgets/controls",
          "model_name": "HTMLModel",
          "model_module_version": "1.5.0",
          "state": {
            "_view_name": "HTMLView",
            "style": "IPY_MODEL_35da0dbfff05474d87fccfa2f507860c",
            "_dom_classes": [],
            "description": "",
            "_model_name": "HTMLModel",
            "placeholder": "​",
            "_view_module": "@jupyter-widgets/controls",
            "_model_module_version": "1.5.0",
            "value": "Downloading: 100%",
            "_view_count": null,
            "_view_module_version": "1.5.0",
            "description_tooltip": null,
            "_model_module": "@jupyter-widgets/controls",
            "layout": "IPY_MODEL_73047da387cb41aa9061233b0ba85679"
          }
        },
        "404842f1b4c0497a859c533533a56a08": {
          "model_module": "@jupyter-widgets/controls",
          "model_name": "FloatProgressModel",
          "model_module_version": "1.5.0",
          "state": {
            "_view_name": "ProgressView",
            "style": "IPY_MODEL_57f26c46226740ca8901e52429f94977",
            "_dom_classes": [],
            "description": "",
            "_model_name": "FloatProgressModel",
            "bar_style": "success",
            "max": 570,
            "_view_module": "@jupyter-widgets/controls",
            "_model_module_version": "1.5.0",
            "value": 570,
            "_view_count": null,
            "_view_module_version": "1.5.0",
            "orientation": "horizontal",
            "min": 0,
            "description_tooltip": null,
            "_model_module": "@jupyter-widgets/controls",
            "layout": "IPY_MODEL_cb64693d67314235a83759e5d8a27ca7"
          }
        },
        "b29025386156499ba694b9467544371e": {
          "model_module": "@jupyter-widgets/controls",
          "model_name": "HTMLModel",
          "model_module_version": "1.5.0",
          "state": {
            "_view_name": "HTMLView",
            "style": "IPY_MODEL_6d4c40a7f6eb40ebb698baa93bae2009",
            "_dom_classes": [],
            "description": "",
            "_model_name": "HTMLModel",
            "placeholder": "​",
            "_view_module": "@jupyter-widgets/controls",
            "_model_module_version": "1.5.0",
            "value": " 570/570 [00:00&lt;00:00, 3.17kB/s]",
            "_view_count": null,
            "_view_module_version": "1.5.0",
            "description_tooltip": null,
            "_model_module": "@jupyter-widgets/controls",
            "layout": "IPY_MODEL_a0152a774c8945a0a14d325366cb2e8e"
          }
        },
        "35da0dbfff05474d87fccfa2f507860c": {
          "model_module": "@jupyter-widgets/controls",
          "model_name": "DescriptionStyleModel",
          "model_module_version": "1.5.0",
          "state": {
            "_view_name": "StyleView",
            "_model_name": "DescriptionStyleModel",
            "description_width": "",
            "_view_module": "@jupyter-widgets/base",
            "_model_module_version": "1.5.0",
            "_view_count": null,
            "_view_module_version": "1.2.0",
            "_model_module": "@jupyter-widgets/controls"
          }
        },
        "73047da387cb41aa9061233b0ba85679": {
          "model_module": "@jupyter-widgets/base",
          "model_name": "LayoutModel",
          "model_module_version": "1.2.0",
          "state": {
            "_view_name": "LayoutView",
            "grid_template_rows": null,
            "right": null,
            "justify_content": null,
            "_view_module": "@jupyter-widgets/base",
            "overflow": null,
            "_model_module_version": "1.2.0",
            "_view_count": null,
            "flex_flow": null,
            "width": null,
            "min_width": null,
            "border": null,
            "align_items": null,
            "bottom": null,
            "_model_module": "@jupyter-widgets/base",
            "top": null,
            "grid_column": null,
            "overflow_y": null,
            "overflow_x": null,
            "grid_auto_flow": null,
            "grid_area": null,
            "grid_template_columns": null,
            "flex": null,
            "_model_name": "LayoutModel",
            "justify_items": null,
            "grid_row": null,
            "max_height": null,
            "align_content": null,
            "visibility": null,
            "align_self": null,
            "height": null,
            "min_height": null,
            "padding": null,
            "grid_auto_rows": null,
            "grid_gap": null,
            "max_width": null,
            "order": null,
            "_view_module_version": "1.2.0",
            "grid_template_areas": null,
            "object_position": null,
            "object_fit": null,
            "grid_auto_columns": null,
            "margin": null,
            "display": null,
            "left": null
          }
        },
        "57f26c46226740ca8901e52429f94977": {
          "model_module": "@jupyter-widgets/controls",
          "model_name": "ProgressStyleModel",
          "model_module_version": "1.5.0",
          "state": {
            "_view_name": "StyleView",
            "_model_name": "ProgressStyleModel",
            "description_width": "",
            "_view_module": "@jupyter-widgets/base",
            "_model_module_version": "1.5.0",
            "_view_count": null,
            "_view_module_version": "1.2.0",
            "bar_color": null,
            "_model_module": "@jupyter-widgets/controls"
          }
        },
        "cb64693d67314235a83759e5d8a27ca7": {
          "model_module": "@jupyter-widgets/base",
          "model_name": "LayoutModel",
          "model_module_version": "1.2.0",
          "state": {
            "_view_name": "LayoutView",
            "grid_template_rows": null,
            "right": null,
            "justify_content": null,
            "_view_module": "@jupyter-widgets/base",
            "overflow": null,
            "_model_module_version": "1.2.0",
            "_view_count": null,
            "flex_flow": null,
            "width": null,
            "min_width": null,
            "border": null,
            "align_items": null,
            "bottom": null,
            "_model_module": "@jupyter-widgets/base",
            "top": null,
            "grid_column": null,
            "overflow_y": null,
            "overflow_x": null,
            "grid_auto_flow": null,
            "grid_area": null,
            "grid_template_columns": null,
            "flex": null,
            "_model_name": "LayoutModel",
            "justify_items": null,
            "grid_row": null,
            "max_height": null,
            "align_content": null,
            "visibility": null,
            "align_self": null,
            "height": null,
            "min_height": null,
            "padding": null,
            "grid_auto_rows": null,
            "grid_gap": null,
            "max_width": null,
            "order": null,
            "_view_module_version": "1.2.0",
            "grid_template_areas": null,
            "object_position": null,
            "object_fit": null,
            "grid_auto_columns": null,
            "margin": null,
            "display": null,
            "left": null
          }
        },
        "6d4c40a7f6eb40ebb698baa93bae2009": {
          "model_module": "@jupyter-widgets/controls",
          "model_name": "DescriptionStyleModel",
          "model_module_version": "1.5.0",
          "state": {
            "_view_name": "StyleView",
            "_model_name": "DescriptionStyleModel",
            "description_width": "",
            "_view_module": "@jupyter-widgets/base",
            "_model_module_version": "1.5.0",
            "_view_count": null,
            "_view_module_version": "1.2.0",
            "_model_module": "@jupyter-widgets/controls"
          }
        },
        "a0152a774c8945a0a14d325366cb2e8e": {
          "model_module": "@jupyter-widgets/base",
          "model_name": "LayoutModel",
          "model_module_version": "1.2.0",
          "state": {
            "_view_name": "LayoutView",
            "grid_template_rows": null,
            "right": null,
            "justify_content": null,
            "_view_module": "@jupyter-widgets/base",
            "overflow": null,
            "_model_module_version": "1.2.0",
            "_view_count": null,
            "flex_flow": null,
            "width": null,
            "min_width": null,
            "border": null,
            "align_items": null,
            "bottom": null,
            "_model_module": "@jupyter-widgets/base",
            "top": null,
            "grid_column": null,
            "overflow_y": null,
            "overflow_x": null,
            "grid_auto_flow": null,
            "grid_area": null,
            "grid_template_columns": null,
            "flex": null,
            "_model_name": "LayoutModel",
            "justify_items": null,
            "grid_row": null,
            "max_height": null,
            "align_content": null,
            "visibility": null,
            "align_self": null,
            "height": null,
            "min_height": null,
            "padding": null,
            "grid_auto_rows": null,
            "grid_gap": null,
            "max_width": null,
            "order": null,
            "_view_module_version": "1.2.0",
            "grid_template_areas": null,
            "object_position": null,
            "object_fit": null,
            "grid_auto_columns": null,
            "margin": null,
            "display": null,
            "left": null
          }
        },
        "e5cb5067f4554fa5bdf61a995daf4275": {
          "model_module": "@jupyter-widgets/controls",
          "model_name": "HBoxModel",
          "model_module_version": "1.5.0",
          "state": {
            "_view_name": "HBoxView",
            "_dom_classes": [],
            "_model_name": "HBoxModel",
            "_view_module": "@jupyter-widgets/controls",
            "_model_module_version": "1.5.0",
            "_view_count": null,
            "_view_module_version": "1.5.0",
            "box_style": "",
            "layout": "IPY_MODEL_9e40592042db455aa5a81a44058b04f6",
            "_model_module": "@jupyter-widgets/controls",
            "children": [
              "IPY_MODEL_9deb378d00974a279ef16a320e02a415",
              "IPY_MODEL_31c89c0e1acb4622b5a5940b7d478247",
              "IPY_MODEL_25082227b1f147e289827221857118f8"
            ]
          }
        },
        "9e40592042db455aa5a81a44058b04f6": {
          "model_module": "@jupyter-widgets/base",
          "model_name": "LayoutModel",
          "model_module_version": "1.2.0",
          "state": {
            "_view_name": "LayoutView",
            "grid_template_rows": null,
            "right": null,
            "justify_content": null,
            "_view_module": "@jupyter-widgets/base",
            "overflow": null,
            "_model_module_version": "1.2.0",
            "_view_count": null,
            "flex_flow": null,
            "width": null,
            "min_width": null,
            "border": null,
            "align_items": null,
            "bottom": null,
            "_model_module": "@jupyter-widgets/base",
            "top": null,
            "grid_column": null,
            "overflow_y": null,
            "overflow_x": null,
            "grid_auto_flow": null,
            "grid_area": null,
            "grid_template_columns": null,
            "flex": null,
            "_model_name": "LayoutModel",
            "justify_items": null,
            "grid_row": null,
            "max_height": null,
            "align_content": null,
            "visibility": null,
            "align_self": null,
            "height": null,
            "min_height": null,
            "padding": null,
            "grid_auto_rows": null,
            "grid_gap": null,
            "max_width": null,
            "order": null,
            "_view_module_version": "1.2.0",
            "grid_template_areas": null,
            "object_position": null,
            "object_fit": null,
            "grid_auto_columns": null,
            "margin": null,
            "display": null,
            "left": null
          }
        },
        "9deb378d00974a279ef16a320e02a415": {
          "model_module": "@jupyter-widgets/controls",
          "model_name": "HTMLModel",
          "model_module_version": "1.5.0",
          "state": {
            "_view_name": "HTMLView",
            "style": "IPY_MODEL_f52ed71643f846ac8b2b2032887a511f",
            "_dom_classes": [],
            "description": "",
            "_model_name": "HTMLModel",
            "placeholder": "​",
            "_view_module": "@jupyter-widgets/controls",
            "_model_module_version": "1.5.0",
            "value": "Downloading: 100%",
            "_view_count": null,
            "_view_module_version": "1.5.0",
            "description_tooltip": null,
            "_model_module": "@jupyter-widgets/controls",
            "layout": "IPY_MODEL_ec72781724cd4fc1a2899a3d13d62f9e"
          }
        },
        "31c89c0e1acb4622b5a5940b7d478247": {
          "model_module": "@jupyter-widgets/controls",
          "model_name": "FloatProgressModel",
          "model_module_version": "1.5.0",
          "state": {
            "_view_name": "ProgressView",
            "style": "IPY_MODEL_8617199396354fb884a2cf736941b64e",
            "_dom_classes": [],
            "description": "",
            "_model_name": "FloatProgressModel",
            "bar_style": "success",
            "max": 213450,
            "_view_module": "@jupyter-widgets/controls",
            "_model_module_version": "1.5.0",
            "value": 213450,
            "_view_count": null,
            "_view_module_version": "1.5.0",
            "orientation": "horizontal",
            "min": 0,
            "description_tooltip": null,
            "_model_module": "@jupyter-widgets/controls",
            "layout": "IPY_MODEL_26f25cc93aca4631be8074554567fc44"
          }
        },
        "25082227b1f147e289827221857118f8": {
          "model_module": "@jupyter-widgets/controls",
          "model_name": "HTMLModel",
          "model_module_version": "1.5.0",
          "state": {
            "_view_name": "HTMLView",
            "style": "IPY_MODEL_59880415ad4249368d84b360e2558711",
            "_dom_classes": [],
            "description": "",
            "_model_name": "HTMLModel",
            "placeholder": "​",
            "_view_module": "@jupyter-widgets/controls",
            "_model_module_version": "1.5.0",
            "value": " 208k/208k [00:00&lt;00:00, 7.08kB/s]",
            "_view_count": null,
            "_view_module_version": "1.5.0",
            "description_tooltip": null,
            "_model_module": "@jupyter-widgets/controls",
            "layout": "IPY_MODEL_5f5183e0214d4082bdb9f19af53cea59"
          }
        },
        "f52ed71643f846ac8b2b2032887a511f": {
          "model_module": "@jupyter-widgets/controls",
          "model_name": "DescriptionStyleModel",
          "model_module_version": "1.5.0",
          "state": {
            "_view_name": "StyleView",
            "_model_name": "DescriptionStyleModel",
            "description_width": "",
            "_view_module": "@jupyter-widgets/base",
            "_model_module_version": "1.5.0",
            "_view_count": null,
            "_view_module_version": "1.2.0",
            "_model_module": "@jupyter-widgets/controls"
          }
        },
        "ec72781724cd4fc1a2899a3d13d62f9e": {
          "model_module": "@jupyter-widgets/base",
          "model_name": "LayoutModel",
          "model_module_version": "1.2.0",
          "state": {
            "_view_name": "LayoutView",
            "grid_template_rows": null,
            "right": null,
            "justify_content": null,
            "_view_module": "@jupyter-widgets/base",
            "overflow": null,
            "_model_module_version": "1.2.0",
            "_view_count": null,
            "flex_flow": null,
            "width": null,
            "min_width": null,
            "border": null,
            "align_items": null,
            "bottom": null,
            "_model_module": "@jupyter-widgets/base",
            "top": null,
            "grid_column": null,
            "overflow_y": null,
            "overflow_x": null,
            "grid_auto_flow": null,
            "grid_area": null,
            "grid_template_columns": null,
            "flex": null,
            "_model_name": "LayoutModel",
            "justify_items": null,
            "grid_row": null,
            "max_height": null,
            "align_content": null,
            "visibility": null,
            "align_self": null,
            "height": null,
            "min_height": null,
            "padding": null,
            "grid_auto_rows": null,
            "grid_gap": null,
            "max_width": null,
            "order": null,
            "_view_module_version": "1.2.0",
            "grid_template_areas": null,
            "object_position": null,
            "object_fit": null,
            "grid_auto_columns": null,
            "margin": null,
            "display": null,
            "left": null
          }
        },
        "8617199396354fb884a2cf736941b64e": {
          "model_module": "@jupyter-widgets/controls",
          "model_name": "ProgressStyleModel",
          "model_module_version": "1.5.0",
          "state": {
            "_view_name": "StyleView",
            "_model_name": "ProgressStyleModel",
            "description_width": "",
            "_view_module": "@jupyter-widgets/base",
            "_model_module_version": "1.5.0",
            "_view_count": null,
            "_view_module_version": "1.2.0",
            "bar_color": null,
            "_model_module": "@jupyter-widgets/controls"
          }
        },
        "26f25cc93aca4631be8074554567fc44": {
          "model_module": "@jupyter-widgets/base",
          "model_name": "LayoutModel",
          "model_module_version": "1.2.0",
          "state": {
            "_view_name": "LayoutView",
            "grid_template_rows": null,
            "right": null,
            "justify_content": null,
            "_view_module": "@jupyter-widgets/base",
            "overflow": null,
            "_model_module_version": "1.2.0",
            "_view_count": null,
            "flex_flow": null,
            "width": null,
            "min_width": null,
            "border": null,
            "align_items": null,
            "bottom": null,
            "_model_module": "@jupyter-widgets/base",
            "top": null,
            "grid_column": null,
            "overflow_y": null,
            "overflow_x": null,
            "grid_auto_flow": null,
            "grid_area": null,
            "grid_template_columns": null,
            "flex": null,
            "_model_name": "LayoutModel",
            "justify_items": null,
            "grid_row": null,
            "max_height": null,
            "align_content": null,
            "visibility": null,
            "align_self": null,
            "height": null,
            "min_height": null,
            "padding": null,
            "grid_auto_rows": null,
            "grid_gap": null,
            "max_width": null,
            "order": null,
            "_view_module_version": "1.2.0",
            "grid_template_areas": null,
            "object_position": null,
            "object_fit": null,
            "grid_auto_columns": null,
            "margin": null,
            "display": null,
            "left": null
          }
        },
        "59880415ad4249368d84b360e2558711": {
          "model_module": "@jupyter-widgets/controls",
          "model_name": "DescriptionStyleModel",
          "model_module_version": "1.5.0",
          "state": {
            "_view_name": "StyleView",
            "_model_name": "DescriptionStyleModel",
            "description_width": "",
            "_view_module": "@jupyter-widgets/base",
            "_model_module_version": "1.5.0",
            "_view_count": null,
            "_view_module_version": "1.2.0",
            "_model_module": "@jupyter-widgets/controls"
          }
        },
        "5f5183e0214d4082bdb9f19af53cea59": {
          "model_module": "@jupyter-widgets/base",
          "model_name": "LayoutModel",
          "model_module_version": "1.2.0",
          "state": {
            "_view_name": "LayoutView",
            "grid_template_rows": null,
            "right": null,
            "justify_content": null,
            "_view_module": "@jupyter-widgets/base",
            "overflow": null,
            "_model_module_version": "1.2.0",
            "_view_count": null,
            "flex_flow": null,
            "width": null,
            "min_width": null,
            "border": null,
            "align_items": null,
            "bottom": null,
            "_model_module": "@jupyter-widgets/base",
            "top": null,
            "grid_column": null,
            "overflow_y": null,
            "overflow_x": null,
            "grid_auto_flow": null,
            "grid_area": null,
            "grid_template_columns": null,
            "flex": null,
            "_model_name": "LayoutModel",
            "justify_items": null,
            "grid_row": null,
            "max_height": null,
            "align_content": null,
            "visibility": null,
            "align_self": null,
            "height": null,
            "min_height": null,
            "padding": null,
            "grid_auto_rows": null,
            "grid_gap": null,
            "max_width": null,
            "order": null,
            "_view_module_version": "1.2.0",
            "grid_template_areas": null,
            "object_position": null,
            "object_fit": null,
            "grid_auto_columns": null,
            "margin": null,
            "display": null,
            "left": null
          }
        },
        "626886ae2a874a719b947c3b840d1254": {
          "model_module": "@jupyter-widgets/controls",
          "model_name": "HBoxModel",
          "model_module_version": "1.5.0",
          "state": {
            "_view_name": "HBoxView",
            "_dom_classes": [],
            "_model_name": "HBoxModel",
            "_view_module": "@jupyter-widgets/controls",
            "_model_module_version": "1.5.0",
            "_view_count": null,
            "_view_module_version": "1.5.0",
            "box_style": "",
            "layout": "IPY_MODEL_0333c94f54e64ecca5167680321d1f21",
            "_model_module": "@jupyter-widgets/controls",
            "children": [
              "IPY_MODEL_8bce4fb6da994f50b07e29cb2a5b1f28",
              "IPY_MODEL_aa780ce7d65f4ee7a13e21b911a6d462",
              "IPY_MODEL_35f5e0cdf1cd4caa80a0ab92aa50ffcd"
            ]
          }
        },
        "0333c94f54e64ecca5167680321d1f21": {
          "model_module": "@jupyter-widgets/base",
          "model_name": "LayoutModel",
          "model_module_version": "1.2.0",
          "state": {
            "_view_name": "LayoutView",
            "grid_template_rows": null,
            "right": null,
            "justify_content": null,
            "_view_module": "@jupyter-widgets/base",
            "overflow": null,
            "_model_module_version": "1.2.0",
            "_view_count": null,
            "flex_flow": null,
            "width": null,
            "min_width": null,
            "border": null,
            "align_items": null,
            "bottom": null,
            "_model_module": "@jupyter-widgets/base",
            "top": null,
            "grid_column": null,
            "overflow_y": null,
            "overflow_x": null,
            "grid_auto_flow": null,
            "grid_area": null,
            "grid_template_columns": null,
            "flex": null,
            "_model_name": "LayoutModel",
            "justify_items": null,
            "grid_row": null,
            "max_height": null,
            "align_content": null,
            "visibility": null,
            "align_self": null,
            "height": null,
            "min_height": null,
            "padding": null,
            "grid_auto_rows": null,
            "grid_gap": null,
            "max_width": null,
            "order": null,
            "_view_module_version": "1.2.0",
            "grid_template_areas": null,
            "object_position": null,
            "object_fit": null,
            "grid_auto_columns": null,
            "margin": null,
            "display": null,
            "left": null
          }
        },
        "8bce4fb6da994f50b07e29cb2a5b1f28": {
          "model_module": "@jupyter-widgets/controls",
          "model_name": "HTMLModel",
          "model_module_version": "1.5.0",
          "state": {
            "_view_name": "HTMLView",
            "style": "IPY_MODEL_3866908a0a3c40a99c3f14457e83b29c",
            "_dom_classes": [],
            "description": "",
            "_model_name": "HTMLModel",
            "placeholder": "​",
            "_view_module": "@jupyter-widgets/controls",
            "_model_module_version": "1.5.0",
            "value": "Downloading: 100%",
            "_view_count": null,
            "_view_module_version": "1.5.0",
            "description_tooltip": null,
            "_model_module": "@jupyter-widgets/controls",
            "layout": "IPY_MODEL_ada7105644534a7c8be518b11b4bd634"
          }
        },
        "aa780ce7d65f4ee7a13e21b911a6d462": {
          "model_module": "@jupyter-widgets/controls",
          "model_name": "FloatProgressModel",
          "model_module_version": "1.5.0",
          "state": {
            "_view_name": "ProgressView",
            "style": "IPY_MODEL_63c76e5dbd0a4286b827e246553e15b3",
            "_dom_classes": [],
            "description": "",
            "_model_name": "FloatProgressModel",
            "bar_style": "success",
            "max": 435797,
            "_view_module": "@jupyter-widgets/controls",
            "_model_module_version": "1.5.0",
            "value": 435797,
            "_view_count": null,
            "_view_module_version": "1.5.0",
            "orientation": "horizontal",
            "min": 0,
            "description_tooltip": null,
            "_model_module": "@jupyter-widgets/controls",
            "layout": "IPY_MODEL_4a6639d9cd1d4ce3a032ed31ffd58b53"
          }
        },
        "35f5e0cdf1cd4caa80a0ab92aa50ffcd": {
          "model_module": "@jupyter-widgets/controls",
          "model_name": "HTMLModel",
          "model_module_version": "1.5.0",
          "state": {
            "_view_name": "HTMLView",
            "style": "IPY_MODEL_49fe9a36176a4c608c8de03faa62c083",
            "_dom_classes": [],
            "description": "",
            "_model_name": "HTMLModel",
            "placeholder": "​",
            "_view_module": "@jupyter-widgets/controls",
            "_model_module_version": "1.5.0",
            "value": " 426k/426k [00:00&lt;00:00, 1.40MB/s]",
            "_view_count": null,
            "_view_module_version": "1.5.0",
            "description_tooltip": null,
            "_model_module": "@jupyter-widgets/controls",
            "layout": "IPY_MODEL_6bc053cef4ca4326b8ebfc96b6651b5c"
          }
        },
        "3866908a0a3c40a99c3f14457e83b29c": {
          "model_module": "@jupyter-widgets/controls",
          "model_name": "DescriptionStyleModel",
          "model_module_version": "1.5.0",
          "state": {
            "_view_name": "StyleView",
            "_model_name": "DescriptionStyleModel",
            "description_width": "",
            "_view_module": "@jupyter-widgets/base",
            "_model_module_version": "1.5.0",
            "_view_count": null,
            "_view_module_version": "1.2.0",
            "_model_module": "@jupyter-widgets/controls"
          }
        },
        "ada7105644534a7c8be518b11b4bd634": {
          "model_module": "@jupyter-widgets/base",
          "model_name": "LayoutModel",
          "model_module_version": "1.2.0",
          "state": {
            "_view_name": "LayoutView",
            "grid_template_rows": null,
            "right": null,
            "justify_content": null,
            "_view_module": "@jupyter-widgets/base",
            "overflow": null,
            "_model_module_version": "1.2.0",
            "_view_count": null,
            "flex_flow": null,
            "width": null,
            "min_width": null,
            "border": null,
            "align_items": null,
            "bottom": null,
            "_model_module": "@jupyter-widgets/base",
            "top": null,
            "grid_column": null,
            "overflow_y": null,
            "overflow_x": null,
            "grid_auto_flow": null,
            "grid_area": null,
            "grid_template_columns": null,
            "flex": null,
            "_model_name": "LayoutModel",
            "justify_items": null,
            "grid_row": null,
            "max_height": null,
            "align_content": null,
            "visibility": null,
            "align_self": null,
            "height": null,
            "min_height": null,
            "padding": null,
            "grid_auto_rows": null,
            "grid_gap": null,
            "max_width": null,
            "order": null,
            "_view_module_version": "1.2.0",
            "grid_template_areas": null,
            "object_position": null,
            "object_fit": null,
            "grid_auto_columns": null,
            "margin": null,
            "display": null,
            "left": null
          }
        },
        "63c76e5dbd0a4286b827e246553e15b3": {
          "model_module": "@jupyter-widgets/controls",
          "model_name": "ProgressStyleModel",
          "model_module_version": "1.5.0",
          "state": {
            "_view_name": "StyleView",
            "_model_name": "ProgressStyleModel",
            "description_width": "",
            "_view_module": "@jupyter-widgets/base",
            "_model_module_version": "1.5.0",
            "_view_count": null,
            "_view_module_version": "1.2.0",
            "bar_color": null,
            "_model_module": "@jupyter-widgets/controls"
          }
        },
        "4a6639d9cd1d4ce3a032ed31ffd58b53": {
          "model_module": "@jupyter-widgets/base",
          "model_name": "LayoutModel",
          "model_module_version": "1.2.0",
          "state": {
            "_view_name": "LayoutView",
            "grid_template_rows": null,
            "right": null,
            "justify_content": null,
            "_view_module": "@jupyter-widgets/base",
            "overflow": null,
            "_model_module_version": "1.2.0",
            "_view_count": null,
            "flex_flow": null,
            "width": null,
            "min_width": null,
            "border": null,
            "align_items": null,
            "bottom": null,
            "_model_module": "@jupyter-widgets/base",
            "top": null,
            "grid_column": null,
            "overflow_y": null,
            "overflow_x": null,
            "grid_auto_flow": null,
            "grid_area": null,
            "grid_template_columns": null,
            "flex": null,
            "_model_name": "LayoutModel",
            "justify_items": null,
            "grid_row": null,
            "max_height": null,
            "align_content": null,
            "visibility": null,
            "align_self": null,
            "height": null,
            "min_height": null,
            "padding": null,
            "grid_auto_rows": null,
            "grid_gap": null,
            "max_width": null,
            "order": null,
            "_view_module_version": "1.2.0",
            "grid_template_areas": null,
            "object_position": null,
            "object_fit": null,
            "grid_auto_columns": null,
            "margin": null,
            "display": null,
            "left": null
          }
        },
        "49fe9a36176a4c608c8de03faa62c083": {
          "model_module": "@jupyter-widgets/controls",
          "model_name": "DescriptionStyleModel",
          "model_module_version": "1.5.0",
          "state": {
            "_view_name": "StyleView",
            "_model_name": "DescriptionStyleModel",
            "description_width": "",
            "_view_module": "@jupyter-widgets/base",
            "_model_module_version": "1.5.0",
            "_view_count": null,
            "_view_module_version": "1.2.0",
            "_model_module": "@jupyter-widgets/controls"
          }
        },
        "6bc053cef4ca4326b8ebfc96b6651b5c": {
          "model_module": "@jupyter-widgets/base",
          "model_name": "LayoutModel",
          "model_module_version": "1.2.0",
          "state": {
            "_view_name": "LayoutView",
            "grid_template_rows": null,
            "right": null,
            "justify_content": null,
            "_view_module": "@jupyter-widgets/base",
            "overflow": null,
            "_model_module_version": "1.2.0",
            "_view_count": null,
            "flex_flow": null,
            "width": null,
            "min_width": null,
            "border": null,
            "align_items": null,
            "bottom": null,
            "_model_module": "@jupyter-widgets/base",
            "top": null,
            "grid_column": null,
            "overflow_y": null,
            "overflow_x": null,
            "grid_auto_flow": null,
            "grid_area": null,
            "grid_template_columns": null,
            "flex": null,
            "_model_name": "LayoutModel",
            "justify_items": null,
            "grid_row": null,
            "max_height": null,
            "align_content": null,
            "visibility": null,
            "align_self": null,
            "height": null,
            "min_height": null,
            "padding": null,
            "grid_auto_rows": null,
            "grid_gap": null,
            "max_width": null,
            "order": null,
            "_view_module_version": "1.2.0",
            "grid_template_areas": null,
            "object_position": null,
            "object_fit": null,
            "grid_auto_columns": null,
            "margin": null,
            "display": null,
            "left": null
          }
        },
        "3e1547862eb24b65bc4690eeaeb4557d": {
          "model_module": "@jupyter-widgets/controls",
          "model_name": "HBoxModel",
          "model_module_version": "1.5.0",
          "state": {
            "_view_name": "HBoxView",
            "_dom_classes": [],
            "_model_name": "HBoxModel",
            "_view_module": "@jupyter-widgets/controls",
            "_model_module_version": "1.5.0",
            "_view_count": null,
            "_view_module_version": "1.5.0",
            "box_style": "",
            "layout": "IPY_MODEL_765273098131416daac33c4b2b3484f3",
            "_model_module": "@jupyter-widgets/controls",
            "children": [
              "IPY_MODEL_d595c5301c10495ea73ae660062d9524",
              "IPY_MODEL_ac200c05f47b4d1c8e10905ac6b18281",
              "IPY_MODEL_e3f82467a5924227a963aeebea268a3c"
            ]
          }
        },
        "765273098131416daac33c4b2b3484f3": {
          "model_module": "@jupyter-widgets/base",
          "model_name": "LayoutModel",
          "model_module_version": "1.2.0",
          "state": {
            "_view_name": "LayoutView",
            "grid_template_rows": null,
            "right": null,
            "justify_content": null,
            "_view_module": "@jupyter-widgets/base",
            "overflow": null,
            "_model_module_version": "1.2.0",
            "_view_count": null,
            "flex_flow": null,
            "width": null,
            "min_width": null,
            "border": null,
            "align_items": null,
            "bottom": null,
            "_model_module": "@jupyter-widgets/base",
            "top": null,
            "grid_column": null,
            "overflow_y": null,
            "overflow_x": null,
            "grid_auto_flow": null,
            "grid_area": null,
            "grid_template_columns": null,
            "flex": null,
            "_model_name": "LayoutModel",
            "justify_items": null,
            "grid_row": null,
            "max_height": null,
            "align_content": null,
            "visibility": null,
            "align_self": null,
            "height": null,
            "min_height": null,
            "padding": null,
            "grid_auto_rows": null,
            "grid_gap": null,
            "max_width": null,
            "order": null,
            "_view_module_version": "1.2.0",
            "grid_template_areas": null,
            "object_position": null,
            "object_fit": null,
            "grid_auto_columns": null,
            "margin": null,
            "display": null,
            "left": null
          }
        },
        "d595c5301c10495ea73ae660062d9524": {
          "model_module": "@jupyter-widgets/controls",
          "model_name": "HTMLModel",
          "model_module_version": "1.5.0",
          "state": {
            "_view_name": "HTMLView",
            "style": "IPY_MODEL_d2d2d5b52c4c4c96b6de0d0174d431f0",
            "_dom_classes": [],
            "description": "",
            "_model_name": "HTMLModel",
            "placeholder": "​",
            "_view_module": "@jupyter-widgets/controls",
            "_model_module_version": "1.5.0",
            "value": "Downloading: 100%",
            "_view_count": null,
            "_view_module_version": "1.5.0",
            "description_tooltip": null,
            "_model_module": "@jupyter-widgets/controls",
            "layout": "IPY_MODEL_98901a0b7a2e42d8aa94a295fba42799"
          }
        },
        "ac200c05f47b4d1c8e10905ac6b18281": {
          "model_module": "@jupyter-widgets/controls",
          "model_name": "FloatProgressModel",
          "model_module_version": "1.5.0",
          "state": {
            "_view_name": "ProgressView",
            "style": "IPY_MODEL_b2d603bddec249ed867b2eca53e31878",
            "_dom_classes": [],
            "description": "",
            "_model_name": "FloatProgressModel",
            "bar_style": "success",
            "max": 526681800,
            "_view_module": "@jupyter-widgets/controls",
            "_model_module_version": "1.5.0",
            "value": 526681800,
            "_view_count": null,
            "_view_module_version": "1.5.0",
            "orientation": "horizontal",
            "min": 0,
            "description_tooltip": null,
            "_model_module": "@jupyter-widgets/controls",
            "layout": "IPY_MODEL_caa8f7f83bba4e5d86656c52a322bed9"
          }
        },
        "e3f82467a5924227a963aeebea268a3c": {
          "model_module": "@jupyter-widgets/controls",
          "model_name": "HTMLModel",
          "model_module_version": "1.5.0",
          "state": {
            "_view_name": "HTMLView",
            "style": "IPY_MODEL_55fd175e644e4c1d9885c8b4988736d7",
            "_dom_classes": [],
            "description": "",
            "_model_name": "HTMLModel",
            "placeholder": "​",
            "_view_module": "@jupyter-widgets/controls",
            "_model_module_version": "1.5.0",
            "value": " 502M/502M [00:25&lt;00:00, 29.2MB/s]",
            "_view_count": null,
            "_view_module_version": "1.5.0",
            "description_tooltip": null,
            "_model_module": "@jupyter-widgets/controls",
            "layout": "IPY_MODEL_aefbbde605e249b1b9308778bfe47ebd"
          }
        },
        "d2d2d5b52c4c4c96b6de0d0174d431f0": {
          "model_module": "@jupyter-widgets/controls",
          "model_name": "DescriptionStyleModel",
          "model_module_version": "1.5.0",
          "state": {
            "_view_name": "StyleView",
            "_model_name": "DescriptionStyleModel",
            "description_width": "",
            "_view_module": "@jupyter-widgets/base",
            "_model_module_version": "1.5.0",
            "_view_count": null,
            "_view_module_version": "1.2.0",
            "_model_module": "@jupyter-widgets/controls"
          }
        },
        "98901a0b7a2e42d8aa94a295fba42799": {
          "model_module": "@jupyter-widgets/base",
          "model_name": "LayoutModel",
          "model_module_version": "1.2.0",
          "state": {
            "_view_name": "LayoutView",
            "grid_template_rows": null,
            "right": null,
            "justify_content": null,
            "_view_module": "@jupyter-widgets/base",
            "overflow": null,
            "_model_module_version": "1.2.0",
            "_view_count": null,
            "flex_flow": null,
            "width": null,
            "min_width": null,
            "border": null,
            "align_items": null,
            "bottom": null,
            "_model_module": "@jupyter-widgets/base",
            "top": null,
            "grid_column": null,
            "overflow_y": null,
            "overflow_x": null,
            "grid_auto_flow": null,
            "grid_area": null,
            "grid_template_columns": null,
            "flex": null,
            "_model_name": "LayoutModel",
            "justify_items": null,
            "grid_row": null,
            "max_height": null,
            "align_content": null,
            "visibility": null,
            "align_self": null,
            "height": null,
            "min_height": null,
            "padding": null,
            "grid_auto_rows": null,
            "grid_gap": null,
            "max_width": null,
            "order": null,
            "_view_module_version": "1.2.0",
            "grid_template_areas": null,
            "object_position": null,
            "object_fit": null,
            "grid_auto_columns": null,
            "margin": null,
            "display": null,
            "left": null
          }
        },
        "b2d603bddec249ed867b2eca53e31878": {
          "model_module": "@jupyter-widgets/controls",
          "model_name": "ProgressStyleModel",
          "model_module_version": "1.5.0",
          "state": {
            "_view_name": "StyleView",
            "_model_name": "ProgressStyleModel",
            "description_width": "",
            "_view_module": "@jupyter-widgets/base",
            "_model_module_version": "1.5.0",
            "_view_count": null,
            "_view_module_version": "1.2.0",
            "bar_color": null,
            "_model_module": "@jupyter-widgets/controls"
          }
        },
        "caa8f7f83bba4e5d86656c52a322bed9": {
          "model_module": "@jupyter-widgets/base",
          "model_name": "LayoutModel",
          "model_module_version": "1.2.0",
          "state": {
            "_view_name": "LayoutView",
            "grid_template_rows": null,
            "right": null,
            "justify_content": null,
            "_view_module": "@jupyter-widgets/base",
            "overflow": null,
            "_model_module_version": "1.2.0",
            "_view_count": null,
            "flex_flow": null,
            "width": null,
            "min_width": null,
            "border": null,
            "align_items": null,
            "bottom": null,
            "_model_module": "@jupyter-widgets/base",
            "top": null,
            "grid_column": null,
            "overflow_y": null,
            "overflow_x": null,
            "grid_auto_flow": null,
            "grid_area": null,
            "grid_template_columns": null,
            "flex": null,
            "_model_name": "LayoutModel",
            "justify_items": null,
            "grid_row": null,
            "max_height": null,
            "align_content": null,
            "visibility": null,
            "align_self": null,
            "height": null,
            "min_height": null,
            "padding": null,
            "grid_auto_rows": null,
            "grid_gap": null,
            "max_width": null,
            "order": null,
            "_view_module_version": "1.2.0",
            "grid_template_areas": null,
            "object_position": null,
            "object_fit": null,
            "grid_auto_columns": null,
            "margin": null,
            "display": null,
            "left": null
          }
        },
        "55fd175e644e4c1d9885c8b4988736d7": {
          "model_module": "@jupyter-widgets/controls",
          "model_name": "DescriptionStyleModel",
          "model_module_version": "1.5.0",
          "state": {
            "_view_name": "StyleView",
            "_model_name": "DescriptionStyleModel",
            "description_width": "",
            "_view_module": "@jupyter-widgets/base",
            "_model_module_version": "1.5.0",
            "_view_count": null,
            "_view_module_version": "1.2.0",
            "_model_module": "@jupyter-widgets/controls"
          }
        },
        "aefbbde605e249b1b9308778bfe47ebd": {
          "model_module": "@jupyter-widgets/base",
          "model_name": "LayoutModel",
          "model_module_version": "1.2.0",
          "state": {
            "_view_name": "LayoutView",
            "grid_template_rows": null,
            "right": null,
            "justify_content": null,
            "_view_module": "@jupyter-widgets/base",
            "overflow": null,
            "_model_module_version": "1.2.0",
            "_view_count": null,
            "flex_flow": null,
            "width": null,
            "min_width": null,
            "border": null,
            "align_items": null,
            "bottom": null,
            "_model_module": "@jupyter-widgets/base",
            "top": null,
            "grid_column": null,
            "overflow_y": null,
            "overflow_x": null,
            "grid_auto_flow": null,
            "grid_area": null,
            "grid_template_columns": null,
            "flex": null,
            "_model_name": "LayoutModel",
            "justify_items": null,
            "grid_row": null,
            "max_height": null,
            "align_content": null,
            "visibility": null,
            "align_self": null,
            "height": null,
            "min_height": null,
            "padding": null,
            "grid_auto_rows": null,
            "grid_gap": null,
            "max_width": null,
            "order": null,
            "_view_module_version": "1.2.0",
            "grid_template_areas": null,
            "object_position": null,
            "object_fit": null,
            "grid_auto_columns": null,
            "margin": null,
            "display": null,
            "left": null
          }
        }
      }
    }
  },
  "cells": [
    {
      "cell_type": "markdown",
      "metadata": {
        "id": "Ycss6qjFk2Zr"
      },
      "source": [
        "# Transformers with TensorFlow\n"
      ]
    },
    {
      "cell_type": "code",
      "metadata": {
        "id": "KGmBm2wukbW0",
        "outputId": "163f4242-d1c7-4c4d-9ff8-bcbd0a3425f1",
        "colab": {
          "base_uri": "https://localhost:8080/"
        }
      },
      "source": [
        "!pip -q install transformers"
      ],
      "execution_count": null,
      "outputs": [
        {
          "output_type": "stream",
          "name": "stdout",
          "text": [
            "\u001b[K     |████████████████████████████████| 3.4 MB 5.4 MB/s \n",
            "\u001b[K     |████████████████████████████████| 61 kB 427 kB/s \n",
            "\u001b[K     |████████████████████████████████| 895 kB 38.6 MB/s \n",
            "\u001b[K     |████████████████████████████████| 596 kB 44.9 MB/s \n",
            "\u001b[K     |████████████████████████████████| 3.3 MB 45.9 MB/s \n",
            "\u001b[?25h"
          ]
        }
      ]
    },
    {
      "cell_type": "code",
      "metadata": {
        "id": "KwYZuVBrBvF4"
      },
      "source": [
        "# 2 Classes \n",
        "!wget -q https://www.dropbox.com/s/ma7aik3z7dbj4gg/meet_reviews_03.csv"
      ],
      "execution_count": null,
      "outputs": []
    },
    {
      "cell_type": "markdown",
      "metadata": {
        "id": "FXEqd69S0ASV"
      },
      "source": [
        "2 Main parts:\n",
        "- Tokenizer \n",
        "- Model"
      ]
    },
    {
      "cell_type": "code",
      "metadata": {
        "id": "kvXClO4lkkUG"
      },
      "source": [
        "# imports \n",
        "import tensorflow as tf\n",
        "import pandas as pd\n",
        "import numpy as np\n",
        "\n",
        "from transformers import AutoTokenizer, TFAutoModelForSequenceClassification\n",
        "\n"
      ],
      "execution_count": null,
      "outputs": []
    },
    {
      "cell_type": "code",
      "metadata": {
        "id": "WjLv8YIVAIZe",
        "outputId": "9b6e6f38-ce22-4780-c9ef-a2fb68fb10cb",
        "colab": {
          "base_uri": "https://localhost:8080/"
        }
      },
      "source": [
        "ls"
      ],
      "execution_count": null,
      "outputs": [
        {
          "output_type": "stream",
          "name": "stdout",
          "text": [
            "meet_reviews_03.csv  \u001b[0m\u001b[01;34msample_data\u001b[0m/\n"
          ]
        }
      ]
    },
    {
      "cell_type": "markdown",
      "metadata": {
        "id": "5YtIA3xpNtKd"
      },
      "source": [
        "## Load up some App Reviews"
      ]
    },
    {
      "cell_type": "code",
      "metadata": {
        "id": "oaMIG6SyCdHp"
      },
      "source": [
        "# load data into a dataframe\n",
        "df = pd.read_csv('./meet_reviews_03.csv', \n",
        "                 encoding='utf-8',\n",
        "                 error_bad_lines=False)"
      ],
      "execution_count": null,
      "outputs": []
    },
    {
      "cell_type": "code",
      "metadata": {
        "id": "2ZNYZ89IgRjm",
        "outputId": "97182f32-38c8-4be2-cd8d-636c653aabaa",
        "colab": {
          "base_uri": "https://localhost:8080/"
        }
      },
      "source": [
        "# lets look at the shape of the data\n",
        "df.shape"
      ],
      "execution_count": null,
      "outputs": [
        {
          "output_type": "execute_result",
          "data": {
            "text/plain": [
              "(3898, 3)"
            ]
          },
          "metadata": {},
          "execution_count": 9
        }
      ]
    },
    {
      "cell_type": "code",
      "metadata": {
        "id": "VqHT69spSpCb",
        "outputId": "a3b4c130-b0f1-4057-a537-3e47715121cf",
        "colab": {
          "base_uri": "https://localhost:8080/",
          "height": 206
        }
      },
      "source": [
        "\n",
        "df.head()"
      ],
      "execution_count": null,
      "outputs": [
        {
          "output_type": "execute_result",
          "data": {
            "text/html": [
              "<div>\n",
              "<style scoped>\n",
              "    .dataframe tbody tr th:only-of-type {\n",
              "        vertical-align: middle;\n",
              "    }\n",
              "\n",
              "    .dataframe tbody tr th {\n",
              "        vertical-align: top;\n",
              "    }\n",
              "\n",
              "    .dataframe thead th {\n",
              "        text-align: right;\n",
              "    }\n",
              "</style>\n",
              "<table border=\"1\" class=\"dataframe\">\n",
              "  <thead>\n",
              "    <tr style=\"text-align: right;\">\n",
              "      <th></th>\n",
              "      <th>Unnamed: 0</th>\n",
              "      <th>content</th>\n",
              "      <th>score</th>\n",
              "    </tr>\n",
              "  </thead>\n",
              "  <tbody>\n",
              "    <tr>\n",
              "      <th>0</th>\n",
              "      <td>0</td>\n",
              "      <td>Firstly i like this app very so much. But afte...</td>\n",
              "      <td>1</td>\n",
              "    </tr>\n",
              "    <tr>\n",
              "      <th>1</th>\n",
              "      <td>1</td>\n",
              "      <td>The reason behind giving only one star is the ...</td>\n",
              "      <td>1</td>\n",
              "    </tr>\n",
              "    <tr>\n",
              "      <th>2</th>\n",
              "      <td>2</td>\n",
              "      <td>Although this app is good but still i hate it....</td>\n",
              "      <td>1</td>\n",
              "    </tr>\n",
              "    <tr>\n",
              "      <th>3</th>\n",
              "      <td>3</td>\n",
              "      <td>Can't access any settings within this app from...</td>\n",
              "      <td>1</td>\n",
              "    </tr>\n",
              "    <tr>\n",
              "      <th>4</th>\n",
              "      <td>4</td>\n",
              "      <td>I have online classes I can't hear it nicely i...</td>\n",
              "      <td>1</td>\n",
              "    </tr>\n",
              "  </tbody>\n",
              "</table>\n",
              "</div>"
            ],
            "text/plain": [
              "   Unnamed: 0                                            content  score\n",
              "0           0  Firstly i like this app very so much. But afte...      1\n",
              "1           1  The reason behind giving only one star is the ...      1\n",
              "2           2  Although this app is good but still i hate it....      1\n",
              "3           3  Can't access any settings within this app from...      1\n",
              "4           4  I have online classes I can't hear it nicely i...      1"
            ]
          },
          "metadata": {},
          "execution_count": 10
        }
      ]
    },
    {
      "cell_type": "code",
      "metadata": {
        "id": "t-XpXgIBSlQk",
        "outputId": "ce9a1f47-4393-4a2c-9b36-0b94571e6d89",
        "colab": {
          "base_uri": "https://localhost:8080/",
          "height": 206
        }
      },
      "source": [
        "df.tail()"
      ],
      "execution_count": null,
      "outputs": [
        {
          "output_type": "execute_result",
          "data": {
            "text/html": [
              "<div>\n",
              "<style scoped>\n",
              "    .dataframe tbody tr th:only-of-type {\n",
              "        vertical-align: middle;\n",
              "    }\n",
              "\n",
              "    .dataframe tbody tr th {\n",
              "        vertical-align: top;\n",
              "    }\n",
              "\n",
              "    .dataframe thead th {\n",
              "        text-align: right;\n",
              "    }\n",
              "</style>\n",
              "<table border=\"1\" class=\"dataframe\">\n",
              "  <thead>\n",
              "    <tr style=\"text-align: right;\">\n",
              "      <th></th>\n",
              "      <th>Unnamed: 0</th>\n",
              "      <th>content</th>\n",
              "      <th>score</th>\n",
              "    </tr>\n",
              "  </thead>\n",
              "  <tbody>\n",
              "    <tr>\n",
              "      <th>3893</th>\n",
              "      <td>5293</td>\n",
              "      <td>Nice app</td>\n",
              "      <td>5</td>\n",
              "    </tr>\n",
              "    <tr>\n",
              "      <th>3894</th>\n",
              "      <td>5294</td>\n",
              "      <td>😡😡😡😡😡.</td>\n",
              "      <td>5</td>\n",
              "    </tr>\n",
              "    <tr>\n",
              "      <th>3895</th>\n",
              "      <td>5295</td>\n",
              "      <td>Thank you for this app</td>\n",
              "      <td>5</td>\n",
              "    </tr>\n",
              "    <tr>\n",
              "      <th>3896</th>\n",
              "      <td>5296</td>\n",
              "      <td>👌</td>\n",
              "      <td>5</td>\n",
              "    </tr>\n",
              "    <tr>\n",
              "      <th>3897</th>\n",
              "      <td>5297</td>\n",
              "      <td>Wow</td>\n",
              "      <td>5</td>\n",
              "    </tr>\n",
              "  </tbody>\n",
              "</table>\n",
              "</div>"
            ],
            "text/plain": [
              "      Unnamed: 0                 content  score\n",
              "3893        5293                Nice app      5\n",
              "3894        5294                  😡😡😡😡😡.      5\n",
              "3895        5295  Thank you for this app      5\n",
              "3896        5296                       👌      5\n",
              "3897        5297                     Wow      5"
            ]
          },
          "metadata": {},
          "execution_count": 11
        }
      ]
    },
    {
      "cell_type": "code",
      "metadata": {
        "id": "5MeV_URdTBhm",
        "outputId": "2a3684a2-dc37-4998-e926-e37614383529",
        "colab": {
          "base_uri": "https://localhost:8080/"
        }
      },
      "source": [
        "df['score'].unique()"
      ],
      "execution_count": null,
      "outputs": [
        {
          "output_type": "execute_result",
          "data": {
            "text/plain": [
              "array([1, 5])"
            ]
          },
          "metadata": {},
          "execution_count": 12
        }
      ]
    },
    {
      "cell_type": "code",
      "metadata": {
        "id": "0BfYqbxKDWYA"
      },
      "source": [
        "# Shuffle\n",
        "df = df.sample(frac=1).reset_index(drop=True)\n",
        "\n",
        "train_df = df[:3600][['content','score']]\n",
        "valid_df = df[3600:][['content','score']]\n"
      ],
      "execution_count": null,
      "outputs": []
    },
    {
      "cell_type": "code",
      "metadata": {
        "id": "-A5hGL0GA658",
        "outputId": "c7eff3ec-31cc-4828-d808-acbef01f5d22",
        "colab": {
          "base_uri": "https://localhost:8080/"
        }
      },
      "source": [
        "train_df.shape"
      ],
      "execution_count": null,
      "outputs": [
        {
          "output_type": "execute_result",
          "data": {
            "text/plain": [
              "(3600, 2)"
            ]
          },
          "metadata": {},
          "execution_count": 14
        }
      ]
    },
    {
      "cell_type": "markdown",
      "metadata": {
        "id": "w3vcY32NS9wV"
      },
      "source": [
        "## Plot out some info"
      ]
    },
    {
      "cell_type": "code",
      "metadata": {
        "id": "U2S2-YPZDl94",
        "outputId": "111b3f6c-33a6-47b8-eabb-ea4959872866",
        "colab": {
          "base_uri": "https://localhost:8080/",
          "height": 281
        }
      },
      "source": [
        "# review lengths\n",
        "df['length'] = df['content'].apply(lambda x: len(x.split(' ')))\n",
        "\n",
        "df.hist(\"length\", bins=10);"
      ],
      "execution_count": null,
      "outputs": [
        {
          "output_type": "display_data",
          "data": {
            "image/png": "[encoded data removed]",
            "text/plain": [
              "<Figure size 432x288 with 1 Axes>"
            ]
          },
          "metadata": {
            "needs_background": "light"
          }
        }
      ]
    },
    {
      "cell_type": "code",
      "metadata": {
        "id": "vG97WX1-GuPz",
        "outputId": "c28c2b66-cbda-4dc8-de7d-a39a39fc4652",
        "colab": {
          "base_uri": "https://localhost:8080/",
          "height": 279
        }
      },
      "source": [
        "# checking amounts for each class\n",
        "df['score'].value_counts().plot(kind='bar')"
      ],
      "execution_count": null,
      "outputs": [
        {
          "output_type": "execute_result",
          "data": {
            "text/plain": [
              "<matplotlib.axes._subplots.AxesSubplot at 0x7fabbe2f6150>"
            ]
          },
          "metadata": {},
          "execution_count": 16
        },
        {
          "output_type": "display_data",
          "data": {
            "image/png": "[encoded data removed]",
            "text/plain": [
              "<Figure size 432x288 with 1 Axes>"
            ]
          },
          "metadata": {
            "needs_background": "light"
          }
        }
      ]
    },
    {
      "cell_type": "markdown",
      "metadata": {
        "id": "bpX8giAOEZSa"
      },
      "source": [
        "## Load the Model and Tokenizer\n",
        "\n",
        "1."
      ]
    },
    {
      "cell_type": "code",
      "metadata": {
        "id": "JrfHFoEokyzt",
        "outputId": "893c1885-e71d-4b26-fb74-84b3230935af",
        "colab": {
          "base_uri": "https://localhost:8080/",
          "height": 246,
          "referenced_widgets": [
            "ee5a3b41ad4c4f25ab6d5aa826253b77",
            "37a81935e18f48b8abf372f04343a9ab",
            "bf667884a62448dfab3acefa395d4cc2",
            "389d0e012ef44e279580e9b15c3fa492",
            "6e7eadee388945b6a047b0fabc2e1c90",
            "0cc39232cc0249d28c6f7b7a16425689",
            "4a52242e1957444ca772732d942951db",
            "0f06669e652245f3b726f34f0167cdb7",
            "836edc68437446669969079972eeec7c",
            "cf8e7e83a15040f4a5ea8f9940a9922a",
            "bc1af0b7c1194c86a469b4d39bfceb86",
            "4a1ea038bf9f430192d4dea52bba3d51",
            "07d857e409e5499f966d4c4ba1191c87",
            "f48c3bc56d3d4ae28fcf5bc37c91c6ba",
            "404842f1b4c0497a859c533533a56a08",
            "b29025386156499ba694b9467544371e",
            "35da0dbfff05474d87fccfa2f507860c",
            "73047da387cb41aa9061233b0ba85679",
            "57f26c46226740ca8901e52429f94977",
            "cb64693d67314235a83759e5d8a27ca7",
            "6d4c40a7f6eb40ebb698baa93bae2009",
            "a0152a774c8945a0a14d325366cb2e8e",
            "e5cb5067f4554fa5bdf61a995daf4275",
            "9e40592042db455aa5a81a44058b04f6",
            "9deb378d00974a279ef16a320e02a415",
            "31c89c0e1acb4622b5a5940b7d478247",
            "25082227b1f147e289827221857118f8",
            "f52ed71643f846ac8b2b2032887a511f",
            "ec72781724cd4fc1a2899a3d13d62f9e",
            "8617199396354fb884a2cf736941b64e",
            "26f25cc93aca4631be8074554567fc44",
            "59880415ad4249368d84b360e2558711",
            "5f5183e0214d4082bdb9f19af53cea59",
            "626886ae2a874a719b947c3b840d1254",
            "0333c94f54e64ecca5167680321d1f21",
            "8bce4fb6da994f50b07e29cb2a5b1f28",
            "aa780ce7d65f4ee7a13e21b911a6d462",
            "35f5e0cdf1cd4caa80a0ab92aa50ffcd",
            "3866908a0a3c40a99c3f14457e83b29c",
            "ada7105644534a7c8be518b11b4bd634",
            "63c76e5dbd0a4286b827e246553e15b3",
            "4a6639d9cd1d4ce3a032ed31ffd58b53",
            "49fe9a36176a4c608c8de03faa62c083",
            "6bc053cef4ca4326b8ebfc96b6651b5c",
            "3e1547862eb24b65bc4690eeaeb4557d",
            "765273098131416daac33c4b2b3484f3",
            "d595c5301c10495ea73ae660062d9524",
            "ac200c05f47b4d1c8e10905ac6b18281",
            "e3f82467a5924227a963aeebea268a3c",
            "d2d2d5b52c4c4c96b6de0d0174d431f0",
            "98901a0b7a2e42d8aa94a295fba42799",
            "b2d603bddec249ed867b2eca53e31878",
            "caa8f7f83bba4e5d86656c52a322bed9",
            "55fd175e644e4c1d9885c8b4988736d7",
            "aefbbde605e249b1b9308778bfe47ebd"
          ]
        }
      },
      "source": [
        "# What model will we use?\n",
        "model_name = 'bert-base-cased'\n",
        "\n",
        "# Load a tokenizer\n",
        "tokenizer = AutoTokenizer.from_pretrained(model_name)\n",
        "\n",
        "\n",
        "# Load the model\n",
        "model = TFAutoModelForSequenceClassification.from_pretrained(model_name, num_labels=2)"
      ],
      "execution_count": null,
      "outputs": [
        {
          "output_type": "display_data",
          "data": {
            "application/vnd.jupyter.widget-view+json": {
              "model_id": "ee5a3b41ad4c4f25ab6d5aa826253b77",
              "version_minor": 0,
              "version_major": 2
            },
            "text/plain": [
              "Downloading:   0%|          | 0.00/29.0 [00:00<?, ?B/s]"
            ]
          },
          "metadata": {}
        },
        {
          "output_type": "display_data",
          "data": {
            "application/vnd.jupyter.widget-view+json": {
              "model_id": "4a1ea038bf9f430192d4dea52bba3d51",
              "version_minor": 0,
              "version_major": 2
            },
            "text/plain": [
              "Downloading:   0%|          | 0.00/570 [00:00<?, ?B/s]"
            ]
          },
          "metadata": {}
        },
        {
          "output_type": "display_data",
          "data": {
            "application/vnd.jupyter.widget-view+json": {
              "model_id": "e5cb5067f4554fa5bdf61a995daf4275",
              "version_minor": 0,
              "version_major": 2
            },
            "text/plain": [
              "Downloading:   0%|          | 0.00/208k [00:00<?, ?B/s]"
            ]
          },
          "metadata": {}
        },
        {
          "output_type": "display_data",
          "data": {
            "application/vnd.jupyter.widget-view+json": {
              "model_id": "626886ae2a874a719b947c3b840d1254",
              "version_minor": 0,
              "version_major": 2
            },
            "text/plain": [
              "Downloading:   0%|          | 0.00/426k [00:00<?, ?B/s]"
            ]
          },
          "metadata": {}
        },
        {
          "output_type": "display_data",
          "data": {
            "application/vnd.jupyter.widget-view+json": {
              "model_id": "3e1547862eb24b65bc4690eeaeb4557d",
              "version_minor": 0,
              "version_major": 2
            },
            "text/plain": [
              "Downloading:   0%|          | 0.00/502M [00:00<?, ?B/s]"
            ]
          },
          "metadata": {}
        },
        {
          "output_type": "stream",
          "name": "stderr",
          "text": [
            "All model checkpoint layers were used when initializing TFBertForSequenceClassification.\n",
            "\n",
            "Some layers of TFBertForSequenceClassification were not initialized from the model checkpoint at bert-base-cased and are newly initialized: ['classifier']\n",
            "You should probably TRAIN this model on a down-stream task to be able to use it for predictions and inference.\n"
          ]
        }
      ]
    },
    {
      "cell_type": "code",
      "source": [
        "tokenizer.tokenize(\"Harry Potter was not an unfriendly wizard who was created by J. K. Rowling\")"
      ],
      "metadata": {
        "id": "WAoXS9drXzgG",
        "outputId": "160514c7-c8d7-444a-af89-0ea9b34719be",
        "colab": {
          "base_uri": "https://localhost:8080/"
        }
      },
      "execution_count": null,
      "outputs": [
        {
          "output_type": "execute_result",
          "data": {
            "text/plain": [
              "['Harry',\n",
              " 'Potter',\n",
              " 'was',\n",
              " 'not',\n",
              " 'an',\n",
              " 'un',\n",
              " '##friend',\n",
              " '##ly',\n",
              " 'wizard',\n",
              " 'who',\n",
              " 'was',\n",
              " 'created',\n",
              " 'by',\n",
              " 'J',\n",
              " '.',\n",
              " 'K',\n",
              " '.',\n",
              " 'Row',\n",
              " '##ling']"
            ]
          },
          "metadata": {},
          "execution_count": 18
        }
      ]
    },
    {
      "cell_type": "markdown",
      "metadata": {
        "id": "duLtzcb68mRs"
      },
      "source": [
        "#### Preparing the text\n",
        "\n",
        "We need to get the text into a format so that we can pass it into the tokenizer"
      ]
    },
    {
      "cell_type": "code",
      "metadata": {
        "id": "k_sX6aygFEGw",
        "outputId": "04fc34ac-041b-4524-844e-ab28d77453ef",
        "colab": {
          "base_uri": "https://localhost:8080/"
        }
      },
      "source": [
        "train_texts = train_df['content'].tolist()\n",
        "valid_texts = valid_df['content'].tolist()\n",
        "\n",
        "print(len(train_texts))\n",
        "train_texts[:5]"
      ],
      "execution_count": null,
      "outputs": [
        {
          "output_type": "stream",
          "name": "stdout",
          "text": [
            "3600\n"
          ]
        },
        {
          "output_type": "execute_result",
          "data": {
            "text/plain": [
              "[\"Horrible app. Glitches all the time no matter what my connection is. Unmutes and turns on camera by itself all the time, kicks me out of meets, and doesn't let me in meets.\",\n",
              " 'Fall',\n",
              " \"Nice experience though..easy to use than other meeting apps.. sometimes the video gest poor in quality which is the most irritating one ..while the audio and the layout of the app and the user experience is extremely well ..hope there's more improvement in future\",\n",
              " \"It's very good app for online classes or virtual meetings in this covid pandemic. But one thing is Missing that while using a G-suit I'd we can't use virtual background. Plz enable it Google plz\\U0001f972🥺🥺🥺🥺🥺🥺🥺🥺\",\n",
              " 'Great connectivity and voice system.']"
            ]
          },
          "metadata": {},
          "execution_count": 19
        }
      ]
    },
    {
      "cell_type": "markdown",
      "metadata": {
        "id": "hI7diHrgVNS9"
      },
      "source": [
        "## Tokenizing, Padding and Truncating the text"
      ]
    },
    {
      "cell_type": "code",
      "metadata": {
        "id": "fmw0VX6jky4W"
      },
      "source": [
        "# Pad the tokenizer outputs to the same length for all samples\n",
        "\n",
        "# tokenize the training data\n",
        "train_tokens = tokenizer(train_texts,\n",
        "                         max_length=128,\n",
        "                         truncation=True,\n",
        "                         padding='max_length',\n",
        "                         add_special_tokens=True,\n",
        "                         return_token_type_ids=False,\n",
        "                         return_tensors='tf')\n",
        "\n",
        "\n",
        "# tokenize the validation data\n",
        "valid_tokens = tokenizer(valid_texts,\n",
        "                         max_length=128,\n",
        "                         truncation=True,\n",
        "                         padding='max_length',\n",
        "                         add_special_tokens=True,\n",
        "                         return_token_type_ids=False,\n",
        "                         return_tensors='tf')\n",
        "\n",
        "\n"
      ],
      "execution_count": null,
      "outputs": []
    },
    {
      "cell_type": "code",
      "metadata": {
        "id": "n8d07WuqE0jD",
        "outputId": "c0bd55fc-08e2-4428-eb2f-4325d05e621b",
        "colab": {
          "base_uri": "https://localhost:8080/"
        }
      },
      "source": [
        "# Lets look at the tokens\n",
        "tokenizer.special_tokens_map, tokenizer.cls_token_id, tokenizer.pad_token_id"
      ],
      "execution_count": null,
      "outputs": [
        {
          "output_type": "execute_result",
          "data": {
            "text/plain": [
              "({'cls_token': '[CLS]',\n",
              "  'mask_token': '[MASK]',\n",
              "  'pad_token': '[PAD]',\n",
              "  'sep_token': '[SEP]',\n",
              "  'unk_token': '[UNK]'},\n",
              " 101,\n",
              " 0)"
            ]
          },
          "metadata": {},
          "execution_count": 23
        }
      ]
    },
    {
      "cell_type": "code",
      "metadata": {
        "id": "06LhaL_pI73c",
        "outputId": "1c32f973-06b8-45bf-91a8-73e5db6f6232",
        "colab": {
          "base_uri": "https://localhost:8080/"
        }
      },
      "source": [
        "# what did the tokenizer make?\n",
        "train_tokens.keys()"
      ],
      "execution_count": null,
      "outputs": [
        {
          "output_type": "execute_result",
          "data": {
            "text/plain": [
              "dict_keys(['input_ids', 'attention_mask'])"
            ]
          },
          "metadata": {},
          "execution_count": 24
        }
      ]
    },
    {
      "cell_type": "code",
      "metadata": {
        "id": "0ydhWZdx93vq",
        "outputId": "6bb5bcd5-30fb-4790-9eea-86023bafc471",
        "colab": {
          "base_uri": "https://localhost:8080/"
        }
      },
      "source": [
        "# input_ids \n",
        "train_tokens['input_ids'][0]"
      ],
      "execution_count": null,
      "outputs": [
        {
          "output_type": "execute_result",
          "data": {
            "text/plain": [
              "<tf.Tensor: shape=(128,), dtype=int32, numpy=\n",
              "array([  101,  9800, 27788, 12647,   119,   144, 12888,  7486,  1155,\n",
              "        1103,  1159,  1185,  2187,  1184,  1139,  3797,  1110,   119,\n",
              "       12118, 13601,  3052,  1105,  3587,  1113,  4504,  1118,  2111,\n",
              "        1155,  1103,  1159,   117, 16721,  1143,  1149,  1104,  5636,\n",
              "         117,  1105,  2144,   112,   189,  1519,  1143,  1107,  5636,\n",
              "         119,   102,     0,     0,     0,     0,     0,     0,     0,\n",
              "           0,     0,     0,     0,     0,     0,     0,     0,     0,\n",
              "           0,     0,     0,     0,     0,     0,     0,     0,     0,\n",
              "           0,     0,     0,     0,     0,     0,     0,     0,     0,\n",
              "           0,     0,     0,     0,     0,     0,     0,     0,     0,\n",
              "           0,     0,     0,     0,     0,     0,     0,     0,     0,\n",
              "           0,     0,     0,     0,     0,     0,     0,     0,     0,\n",
              "           0,     0,     0,     0,     0,     0,     0,     0,     0,\n",
              "           0,     0,     0,     0,     0,     0,     0,     0,     0,\n",
              "           0,     0], dtype=int32)>"
            ]
          },
          "metadata": {},
          "execution_count": 25
        }
      ]
    },
    {
      "cell_type": "code",
      "metadata": {
        "id": "qaMZz3h2-EID",
        "outputId": "e843ae24-40a0-43cb-a27b-58babb70410f",
        "colab": {
          "base_uri": "https://localhost:8080/"
        }
      },
      "source": [
        "# Attention masks\n",
        "train_tokens['attention_mask'][0]"
      ],
      "execution_count": null,
      "outputs": [
        {
          "output_type": "execute_result",
          "data": {
            "text/plain": [
              "<tf.Tensor: shape=(128,), dtype=int32, numpy=\n",
              "array([1, 1, 1, 1, 1, 1, 1, 1, 1, 1, 1, 1, 1, 1, 1, 1, 1, 1, 1, 1, 1, 1,\n",
              "       1, 1, 1, 1, 1, 1, 1, 1, 1, 1, 1, 1, 1, 1, 1, 1, 1, 1, 1, 1, 1, 1,\n",
              "       1, 1, 1, 0, 0, 0, 0, 0, 0, 0, 0, 0, 0, 0, 0, 0, 0, 0, 0, 0, 0, 0,\n",
              "       0, 0, 0, 0, 0, 0, 0, 0, 0, 0, 0, 0, 0, 0, 0, 0, 0, 0, 0, 0, 0, 0,\n",
              "       0, 0, 0, 0, 0, 0, 0, 0, 0, 0, 0, 0, 0, 0, 0, 0, 0, 0, 0, 0, 0, 0,\n",
              "       0, 0, 0, 0, 0, 0, 0, 0, 0, 0, 0, 0, 0, 0, 0, 0, 0, 0], dtype=int32)>"
            ]
          },
          "metadata": {},
          "execution_count": 26
        }
      ]
    },
    {
      "cell_type": "markdown",
      "metadata": {
        "id": "0pl8jtPa8i8V"
      },
      "source": [
        "### Creating the Labels"
      ]
    },
    {
      "cell_type": "code",
      "metadata": {
        "id": "Q2-C3WGeFae8",
        "outputId": "58729405-9dd0-4b46-ae06-9ca88e162788",
        "colab": {
          "base_uri": "https://localhost:8080/"
        }
      },
      "source": [
        "# map the labels \n",
        "label_map = {1 :0, 5:1}\n",
        "\n",
        "label_map"
      ],
      "execution_count": null,
      "outputs": [
        {
          "output_type": "execute_result",
          "data": {
            "text/plain": [
              "{1: 0, 5: 1}"
            ]
          },
          "metadata": {},
          "execution_count": 27
        }
      ]
    },
    {
      "cell_type": "code",
      "metadata": {
        "id": "KLe511n0IMFd"
      },
      "source": [
        "# Map the labels to our dictionary\n",
        "train_labels = train_df['score'].map(label_map).values\n",
        "valid_labels = valid_df['score'].map(label_map).values"
      ],
      "execution_count": null,
      "outputs": []
    },
    {
      "cell_type": "code",
      "metadata": {
        "id": "nigpCoOAGGBa",
        "outputId": "4b0b5bbe-ad70-4894-b68c-6d70cce71fa7",
        "colab": {
          "base_uri": "https://localhost:8080/"
        }
      },
      "source": [
        "# Lets check that \n",
        "row = 5\n",
        "\n",
        "train_df['score'].iloc[row], train_labels[row]"
      ],
      "execution_count": null,
      "outputs": [
        {
          "output_type": "execute_result",
          "data": {
            "text/plain": [
              "(5, 1)"
            ]
          },
          "metadata": {},
          "execution_count": 29
        }
      ]
    },
    {
      "cell_type": "markdown",
      "metadata": {
        "id": "NqM4s1Mv9XTb"
      },
      "source": [
        "## Setting up the model"
      ]
    },
    {
      "cell_type": "code",
      "metadata": {
        "id": "8oivCP6wlE63"
      },
      "source": [
        "# optimizer\n",
        "opt = tf.keras.optimizers.Adam(learning_rate =5e-5, \n",
        "                               epsilon=1e-8)"
      ],
      "execution_count": null,
      "outputs": []
    },
    {
      "cell_type": "code",
      "metadata": {
        "id": "0mmWNdudlIjq"
      },
      "source": [
        "#loss\n",
        "loss = tf.keras.losses.SparseCategoricalCrossentropy(from_logits=True)\n",
        "# compile the model\n",
        "model.compile(optimizer=opt, \n",
        "              loss=loss,\n",
        "              metrics=['accuracy'])\n"
      ],
      "execution_count": null,
      "outputs": []
    },
    {
      "cell_type": "code",
      "metadata": {
        "id": "2Zm3ojnOlqky",
        "outputId": "17e520b2-8bfb-46bd-9884-b8a2081cd2c2",
        "colab": {
          "base_uri": "https://localhost:8080/"
        }
      },
      "source": [
        "# lets look at the model\n",
        "model.summary()"
      ],
      "execution_count": null,
      "outputs": [
        {
          "output_type": "stream",
          "name": "stdout",
          "text": [
            "Model: \"tf_bert_for_sequence_classification\"\n",
            "_________________________________________________________________\n",
            " Layer (type)                Output Shape              Param #   \n",
            "=================================================================\n",
            " bert (TFBertMainLayer)      multiple                  108310272 \n",
            "                                                                 \n",
            " dropout_37 (Dropout)        multiple                  0         \n",
            "                                                                 \n",
            " classifier (Dense)          multiple                  1538      \n",
            "                                                                 \n",
            "=================================================================\n",
            "Total params: 108,311,810\n",
            "Trainable params: 108,311,810\n",
            "Non-trainable params: 0\n",
            "_________________________________________________________________\n"
          ]
        }
      ]
    },
    {
      "cell_type": "code",
      "metadata": {
        "id": "Ze69mgR-EFbO"
      },
      "source": [
        "# lets freeze the bert layer\n",
        "model.layers[0].trainable=False"
      ],
      "execution_count": null,
      "outputs": []
    },
    {
      "cell_type": "code",
      "metadata": {
        "id": "CxNBqOi9EerX",
        "outputId": "d6ed7319-07f5-4e32-b85d-9d5211dac090",
        "colab": {
          "base_uri": "https://localhost:8080/"
        }
      },
      "source": [
        "# lets look at the model again\n",
        "model.summary()"
      ],
      "execution_count": null,
      "outputs": [
        {
          "output_type": "stream",
          "name": "stdout",
          "text": [
            "Model: \"tf_bert_for_sequence_classification\"\n",
            "_________________________________________________________________\n",
            " Layer (type)                Output Shape              Param #   \n",
            "=================================================================\n",
            " bert (TFBertMainLayer)      multiple                  108310272 \n",
            "                                                                 \n",
            " dropout_37 (Dropout)        multiple                  0         \n",
            "                                                                 \n",
            " classifier (Dense)          multiple                  1538      \n",
            "                                                                 \n",
            "=================================================================\n",
            "Total params: 108,311,810\n",
            "Trainable params: 1,538\n",
            "Non-trainable params: 108,310,272\n",
            "_________________________________________________________________\n"
          ]
        }
      ]
    },
    {
      "cell_type": "markdown",
      "metadata": {
        "id": "m2JfbBfWq0ag"
      },
      "source": [
        "### Training"
      ]
    },
    {
      "cell_type": "code",
      "metadata": {
        "id": "gCxCePpBktOf",
        "outputId": "73b7a7f8-b9e3-4f10-c94a-6d6c348532aa",
        "colab": {
          "base_uri": "https://localhost:8080/"
        }
      },
      "source": [
        "# train the model\n",
        "model.fit(dict(train_tokens), train_labels,\n",
        "          epochs=5,\n",
        "          batch_size=16,\n",
        "          validation_data=(dict(valid_tokens), valid_labels),\n",
        "          verbose=1)"
      ],
      "execution_count": null,
      "outputs": [
        {
          "output_type": "stream",
          "name": "stdout",
          "text": [
            "Epoch 1/5\n",
            "225/225 [==============================] - 206s 778ms/step - loss: 0.5499 - accuracy: 0.7317 - val_loss: 0.5400 - val_accuracy: 0.7450\n",
            "Epoch 2/5\n",
            "225/225 [==============================] - 172s 763ms/step - loss: 0.4274 - accuracy: 0.8242 - val_loss: 0.5417 - val_accuracy: 0.7550\n",
            "Epoch 3/5\n",
            "225/225 [==============================] - 169s 752ms/step - loss: 0.3351 - accuracy: 0.8739 - val_loss: 0.5694 - val_accuracy: 0.7550\n",
            "Epoch 4/5\n",
            "225/225 [==============================] - 171s 759ms/step - loss: 0.2677 - accuracy: 0.9011 - val_loss: 0.5414 - val_accuracy: 0.7752\n",
            "Epoch 5/5\n",
            "225/225 [==============================] - 171s 760ms/step - loss: 0.2136 - accuracy: 0.9250 - val_loss: 0.6410 - val_accuracy: 0.7752\n"
          ]
        },
        {
          "output_type": "execute_result",
          "data": {
            "text/plain": [
              "<keras.callbacks.History at 0x7fabb03148d0>"
            ]
          },
          "metadata": {},
          "execution_count": 35
        }
      ]
    },
    {
      "cell_type": "code",
      "source": [
        "model.evaluate(dict(valid_tokens), valid_labels)"
      ],
      "metadata": {
        "id": "L0fg27Rpd2uQ",
        "outputId": "94476c07-730c-4c7d-f0f9-42890cf0a592",
        "colab": {
          "base_uri": "https://localhost:8080/"
        }
      },
      "execution_count": null,
      "outputs": [
        {
          "output_type": "stream",
          "name": "stdout",
          "text": [
            "10/10 [==============================] - 5s 473ms/step - loss: 0.6410 - accuracy: 0.7752\n"
          ]
        },
        {
          "output_type": "execute_result",
          "data": {
            "text/plain": [
              "[0.6410062909126282, 0.7751677632331848]"
            ]
          },
          "metadata": {},
          "execution_count": 36
        }
      ]
    },
    {
      "cell_type": "markdown",
      "metadata": {
        "id": "uDduZr5oMcXe"
      },
      "source": [
        "## Predictions"
      ]
    },
    {
      "cell_type": "code",
      "metadata": {
        "id": "v2ZmsDQp7x3e"
      },
      "source": [
        "#review = 'This app is pretty cool and has lots of good features'\n",
        "#review = 'This app is pretty bad and has lots of awful features'\n",
        "review = \"I really want to like this app but I can't for some many reasons\"\n"
      ],
      "execution_count": null,
      "outputs": []
    },
    {
      "cell_type": "code",
      "metadata": {
        "id": "jv0iSykd9dJK"
      },
      "source": [
        "review_tokens = tokenizer([review],\n",
        "                         max_length=128,\n",
        "                         truncation=True,\n",
        "                         padding='max_length',\n",
        "                         add_special_tokens=True,\n",
        "                         return_token_type_ids=False,\n",
        "                         return_tensors='tf')"
      ],
      "execution_count": null,
      "outputs": []
    },
    {
      "cell_type": "code",
      "metadata": {
        "id": "697R9ztn9dMD",
        "outputId": "872838aa-7e03-42e7-ff02-cf9608aab8f3",
        "colab": {
          "base_uri": "https://localhost:8080/"
        }
      },
      "source": [
        "review_tokens"
      ],
      "execution_count": null,
      "outputs": [
        {
          "output_type": "execute_result",
          "data": {
            "text/plain": [
              "{'input_ids': <tf.Tensor: shape=(1, 128), dtype=int32, numpy=\n",
              "array([[  101,   146,  1541,  1328,  1106,  1176,  1142, 12647,  1133,\n",
              "          146,  1169,   112,   189,  1111,  1199,  1242,  3672,   102,\n",
              "            0,     0,     0,     0,     0,     0,     0,     0,     0,\n",
              "            0,     0,     0,     0,     0,     0,     0,     0,     0,\n",
              "            0,     0,     0,     0,     0,     0,     0,     0,     0,\n",
              "            0,     0,     0,     0,     0,     0,     0,     0,     0,\n",
              "            0,     0,     0,     0,     0,     0,     0,     0,     0,\n",
              "            0,     0,     0,     0,     0,     0,     0,     0,     0,\n",
              "            0,     0,     0,     0,     0,     0,     0,     0,     0,\n",
              "            0,     0,     0,     0,     0,     0,     0,     0,     0,\n",
              "            0,     0,     0,     0,     0,     0,     0,     0,     0,\n",
              "            0,     0,     0,     0,     0,     0,     0,     0,     0,\n",
              "            0,     0,     0,     0,     0,     0,     0,     0,     0,\n",
              "            0,     0,     0,     0,     0,     0,     0,     0,     0,\n",
              "            0,     0]], dtype=int32)>, 'attention_mask': <tf.Tensor: shape=(1, 128), dtype=int32, numpy=\n",
              "array([[1, 1, 1, 1, 1, 1, 1, 1, 1, 1, 1, 1, 1, 1, 1, 1, 1, 1, 0, 0, 0, 0,\n",
              "        0, 0, 0, 0, 0, 0, 0, 0, 0, 0, 0, 0, 0, 0, 0, 0, 0, 0, 0, 0, 0, 0,\n",
              "        0, 0, 0, 0, 0, 0, 0, 0, 0, 0, 0, 0, 0, 0, 0, 0, 0, 0, 0, 0, 0, 0,\n",
              "        0, 0, 0, 0, 0, 0, 0, 0, 0, 0, 0, 0, 0, 0, 0, 0, 0, 0, 0, 0, 0, 0,\n",
              "        0, 0, 0, 0, 0, 0, 0, 0, 0, 0, 0, 0, 0, 0, 0, 0, 0, 0, 0, 0, 0, 0,\n",
              "        0, 0, 0, 0, 0, 0, 0, 0, 0, 0, 0, 0, 0, 0, 0, 0, 0, 0]],\n",
              "      dtype=int32)>}"
            ]
          },
          "metadata": {},
          "execution_count": 67
        }
      ]
    },
    {
      "cell_type": "code",
      "metadata": {
        "id": "XrZ-iRYU9daF",
        "outputId": "db6d9a83-ae0b-49ae-d6d6-971d033b6cbc",
        "colab": {
          "base_uri": "https://localhost:8080/"
        }
      },
      "source": [
        "# PREDICTION \n",
        "pred = model.predict(dict(review_tokens))[0]\n",
        "\n",
        "pred = tf.keras.activations.softmax((tf.constant(pred))).numpy()\n",
        "pred"
      ],
      "execution_count": null,
      "outputs": [
        {
          "output_type": "execute_result",
          "data": {
            "text/plain": [
              "array([[0.57790613, 0.42209387]], dtype=float32)"
            ]
          },
          "metadata": {},
          "execution_count": 68
        }
      ]
    },
    {
      "cell_type": "code",
      "metadata": {
        "id": "oOA8gf5MNOKG",
        "outputId": "fd7aada0-28b1-4b8a-9cb2-38c36c7aa9f8",
        "colab": {
          "base_uri": "https://localhost:8080/"
        }
      },
      "source": [
        "# argmax out the result\n",
        "np.argmax(pred, axis=-1)"
      ],
      "execution_count": null,
      "outputs": [
        {
          "output_type": "execute_result",
          "data": {
            "text/plain": [
              "array([0])"
            ]
          },
          "metadata": {},
          "execution_count": 69
        }
      ]
    },
    {
      "cell_type": "code",
      "metadata": {
        "id": "i1QNSlayNoiV"
      },
      "source": [
        ""
      ],
      "execution_count": null,
      "outputs": []
    },
    {
      "cell_type": "code",
      "source": [
        ""
      ],
      "metadata": {
        "id": "jehxInDaPV--"
      },
      "execution_count": null,
      "outputs": []
    },
    {
      "cell_type": "code",
      "source": [
        "def get_model_layers(model):\n",
        "    layers_temp = []\n",
        "    layers = []\n",
        "    weights = []\n",
        "    params_total = 0\n",
        "    for layer in model.layers:\n",
        "        type_name = type(layer).__name__\n",
        "        print(layer.name, type_name, layer.count_params())\n",
        "        for i,sub in enumerate(layer.submodules):\n",
        "            if sub.built:\n",
        "                print(i+1, type(sub).__name__, sub.trainable, sub.count_params())\n",
        "        # add params\n",
        "        params_total += layer.count_params()\n",
        "\n",
        "        #get the weights\n",
        "        layer_wb = layer.get_weights()\n",
        "        weights.append(layer_wb)\n",
        "\n",
        "        # the raw weights\n",
        "        layers_temp.append(layer)\n",
        "    print(len(layers_temp))\n",
        "    return layers,layers_temp, params_total\n",
        "\n",
        "get_model_layers(model)"
      ],
      "metadata": {
        "id": "avB69XyOPWHm",
        "outputId": "fa3a9428-889a-47d4-f009-220e6fe76405",
        "colab": {
          "base_uri": "https://localhost:8080/"
        }
      },
      "execution_count": null,
      "outputs": [
        {
          "output_type": "stream",
          "name": "stdout",
          "text": [
            "bert TFBertMainLayer 108310272\n",
            "1 TFBertEmbeddings False 22665216\n",
            "2 TFBertEncoder False 85054464\n",
            "3 TFBertPooler False 590592\n",
            "4 LayerNormalization False 1536\n",
            "5 Dropout False 0\n",
            "6 TFBertLayer False 7087872\n",
            "7 TFBertLayer False 7087872\n",
            "8 TFBertLayer False 7087872\n",
            "9 TFBertLayer False 7087872\n",
            "10 TFBertLayer False 7087872\n",
            "11 TFBertLayer False 7087872\n",
            "12 TFBertLayer False 7087872\n",
            "13 TFBertLayer False 7087872\n",
            "14 TFBertLayer False 7087872\n",
            "15 TFBertLayer False 7087872\n",
            "16 TFBertLayer False 7087872\n",
            "17 TFBertLayer False 7087872\n",
            "18 TFBertAttention False 2363904\n",
            "19 TFBertIntermediate False 2362368\n",
            "20 TFBertOutput False 2361600\n",
            "21 TFBertSelfAttention False 1771776\n",
            "22 TFBertSelfOutput False 592128\n",
            "23 Dense False 590592\n",
            "24 Dense False 590592\n",
            "25 Dense False 590592\n",
            "26 Dropout False 0\n",
            "27 LayerNormalization False 1536\n",
            "28 Dense False 590592\n",
            "29 Dropout False 0\n",
            "30 Dense False 2362368\n",
            "31 LayerNormalization False 1536\n",
            "32 Dense False 2360064\n",
            "33 Dropout False 0\n",
            "34 TFBertAttention False 2363904\n",
            "35 TFBertIntermediate False 2362368\n",
            "36 TFBertOutput False 2361600\n",
            "37 TFBertSelfAttention False 1771776\n",
            "38 TFBertSelfOutput False 592128\n",
            "39 Dense False 590592\n",
            "40 Dense False 590592\n",
            "41 Dense False 590592\n",
            "42 Dropout False 0\n",
            "43 LayerNormalization False 1536\n",
            "44 Dense False 590592\n",
            "45 Dropout False 0\n",
            "46 Dense False 2362368\n",
            "47 LayerNormalization False 1536\n",
            "48 Dense False 2360064\n",
            "49 Dropout False 0\n",
            "50 TFBertAttention False 2363904\n",
            "51 TFBertIntermediate False 2362368\n",
            "52 TFBertOutput False 2361600\n",
            "53 TFBertSelfAttention False 1771776\n",
            "54 TFBertSelfOutput False 592128\n",
            "55 Dense False 590592\n",
            "56 Dense False 590592\n",
            "57 Dense False 590592\n",
            "58 Dropout False 0\n",
            "59 LayerNormalization False 1536\n",
            "60 Dense False 590592\n",
            "61 Dropout False 0\n",
            "62 Dense False 2362368\n",
            "63 LayerNormalization False 1536\n",
            "64 Dense False 2360064\n",
            "65 Dropout False 0\n",
            "66 TFBertAttention False 2363904\n",
            "67 TFBertIntermediate False 2362368\n",
            "68 TFBertOutput False 2361600\n",
            "69 TFBertSelfAttention False 1771776\n",
            "70 TFBertSelfOutput False 592128\n",
            "71 Dense False 590592\n",
            "72 Dense False 590592\n",
            "73 Dense False 590592\n",
            "74 Dropout False 0\n",
            "75 LayerNormalization False 1536\n",
            "76 Dense False 590592\n",
            "77 Dropout False 0\n",
            "78 Dense False 2362368\n",
            "79 LayerNormalization False 1536\n",
            "80 Dense False 2360064\n",
            "81 Dropout False 0\n",
            "82 TFBertAttention False 2363904\n",
            "83 TFBertIntermediate False 2362368\n",
            "84 TFBertOutput False 2361600\n",
            "85 TFBertSelfAttention False 1771776\n",
            "86 TFBertSelfOutput False 592128\n",
            "87 Dense False 590592\n",
            "88 Dense False 590592\n",
            "89 Dense False 590592\n",
            "90 Dropout False 0\n",
            "91 LayerNormalization False 1536\n",
            "92 Dense False 590592\n",
            "93 Dropout False 0\n",
            "94 Dense False 2362368\n",
            "95 LayerNormalization False 1536\n",
            "96 Dense False 2360064\n",
            "97 Dropout False 0\n",
            "98 TFBertAttention False 2363904\n",
            "99 TFBertIntermediate False 2362368\n",
            "100 TFBertOutput False 2361600\n",
            "101 TFBertSelfAttention False 1771776\n",
            "102 TFBertSelfOutput False 592128\n",
            "103 Dense False 590592\n",
            "104 Dense False 590592\n",
            "105 Dense False 590592\n",
            "106 Dropout False 0\n",
            "107 LayerNormalization False 1536\n",
            "108 Dense False 590592\n",
            "109 Dropout False 0\n",
            "110 Dense False 2362368\n",
            "111 LayerNormalization False 1536\n",
            "112 Dense False 2360064\n",
            "113 Dropout False 0\n",
            "114 TFBertAttention False 2363904\n",
            "115 TFBertIntermediate False 2362368\n",
            "116 TFBertOutput False 2361600\n",
            "117 TFBertSelfAttention False 1771776\n",
            "118 TFBertSelfOutput False 592128\n",
            "119 Dense False 590592\n",
            "120 Dense False 590592\n",
            "121 Dense False 590592\n",
            "122 Dropout False 0\n",
            "123 LayerNormalization False 1536\n",
            "124 Dense False 590592\n",
            "125 Dropout False 0\n",
            "126 Dense False 2362368\n",
            "127 LayerNormalization False 1536\n",
            "128 Dense False 2360064\n",
            "129 Dropout False 0\n",
            "130 TFBertAttention False 2363904\n",
            "131 TFBertIntermediate False 2362368\n",
            "132 TFBertOutput False 2361600\n",
            "133 TFBertSelfAttention False 1771776\n",
            "134 TFBertSelfOutput False 592128\n",
            "135 Dense False 590592\n",
            "136 Dense False 590592\n",
            "137 Dense False 590592\n",
            "138 Dropout False 0\n",
            "139 LayerNormalization False 1536\n",
            "140 Dense False 590592\n",
            "141 Dropout False 0\n",
            "142 Dense False 2362368\n",
            "143 LayerNormalization False 1536\n",
            "144 Dense False 2360064\n",
            "145 Dropout False 0\n",
            "146 TFBertAttention False 2363904\n",
            "147 TFBertIntermediate False 2362368\n",
            "148 TFBertOutput False 2361600\n",
            "149 TFBertSelfAttention False 1771776\n",
            "150 TFBertSelfOutput False 592128\n",
            "151 Dense False 590592\n",
            "152 Dense False 590592\n",
            "153 Dense False 590592\n",
            "154 Dropout False 0\n",
            "155 LayerNormalization False 1536\n",
            "156 Dense False 590592\n",
            "157 Dropout False 0\n",
            "158 Dense False 2362368\n",
            "159 LayerNormalization False 1536\n",
            "160 Dense False 2360064\n",
            "161 Dropout False 0\n",
            "162 TFBertAttention False 2363904\n",
            "163 TFBertIntermediate False 2362368\n",
            "164 TFBertOutput False 2361600\n",
            "165 TFBertSelfAttention False 1771776\n",
            "166 TFBertSelfOutput False 592128\n",
            "167 Dense False 590592\n",
            "168 Dense False 590592\n",
            "169 Dense False 590592\n",
            "170 Dropout False 0\n",
            "171 LayerNormalization False 1536\n",
            "172 Dense False 590592\n",
            "173 Dropout False 0\n",
            "174 Dense False 2362368\n",
            "175 LayerNormalization False 1536\n",
            "176 Dense False 2360064\n",
            "177 Dropout False 0\n",
            "178 TFBertAttention False 2363904\n",
            "179 TFBertIntermediate False 2362368\n",
            "180 TFBertOutput False 2361600\n",
            "181 TFBertSelfAttention False 1771776\n",
            "182 TFBertSelfOutput False 592128\n",
            "183 Dense False 590592\n",
            "184 Dense False 590592\n",
            "185 Dense False 590592\n",
            "186 Dropout False 0\n",
            "187 LayerNormalization False 1536\n",
            "188 Dense False 590592\n",
            "189 Dropout False 0\n",
            "190 Dense False 2362368\n",
            "191 LayerNormalization False 1536\n",
            "192 Dense False 2360064\n",
            "193 Dropout False 0\n",
            "194 TFBertAttention False 2363904\n",
            "195 TFBertIntermediate False 2362368\n",
            "196 TFBertOutput False 2361600\n",
            "197 TFBertSelfAttention False 1771776\n",
            "198 TFBertSelfOutput False 592128\n",
            "199 Dense False 590592\n",
            "200 Dense False 590592\n",
            "201 Dense False 590592\n",
            "202 Dropout False 0\n",
            "203 LayerNormalization False 1536\n",
            "204 Dense False 590592\n",
            "205 Dropout False 0\n",
            "206 Dense False 2362368\n",
            "207 LayerNormalization False 1536\n",
            "208 Dense False 2360064\n",
            "209 Dropout False 0\n",
            "210 Dense False 590592\n",
            "dropout_37 Dropout 0\n",
            "classifier Dense 1538\n",
            "3\n"
          ]
        },
        {
          "output_type": "execute_result",
          "data": {
            "text/plain": [
              "([],\n",
              " [<transformers.models.bert.modeling_tf_bert.TFBertMainLayer at 0x7fabbd0acc10>,\n",
              "  <keras.layers.core.dropout.Dropout at 0x7fabb01b7fd0>,\n",
              "  <keras.layers.core.dense.Dense at 0x7fabb0165490>],\n",
              " 108311810)"
            ]
          },
          "metadata": {},
          "execution_count": 48
        }
      ]
    },
    {
      "cell_type": "code",
      "source": [
        ""
      ],
      "metadata": {
        "id": "yauaTxJAg7u3"
      },
      "execution_count": null,
      "outputs": []
    }
  ]
}